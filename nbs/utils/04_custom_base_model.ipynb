{
 "cells": [
  {
   "cell_type": "code",
   "execution_count": 1,
   "metadata": {},
   "outputs": [],
   "source": [
    "# | default_exp utils/custom_base_model"
   ]
  },
  {
   "cell_type": "markdown",
   "metadata": {},
   "source": [
    "# Imports"
   ]
  },
  {
   "cell_type": "code",
   "execution_count": 2,
   "metadata": {},
   "outputs": [],
   "source": [
    "# | export\n",
    "\n",
    "from typing import Any\n",
    "\n",
    "from pydantic import BaseModel, ConfigDict, Field, computed_field, model_validator"
   ]
  },
  {
   "cell_type": "markdown",
   "metadata": {},
   "source": [
    "# Base Model"
   ]
  },
  {
   "cell_type": "code",
   "execution_count": 3,
   "metadata": {},
   "outputs": [],
   "source": [
    "# | export\n",
    "\n",
    "class CustomBaseModel(BaseModel):\n",
    "    model_config = ConfigDict(\n",
    "        arbitrary_types_allowed=True,\n",
    "        extra=\"forbid\",\n",
    "        validate_default=True,\n",
    "        validate_assignment=True,\n",
    "        validate_return=True,\n",
    "    )\n",
    "\n",
    "    def get(self, key: str, default: Any = None) -> Any:\n",
    "        \"\"\"Returns the value of the key if it exists, otherwise returns the default value.\"\"\"\n",
    "        return getattr(self, key, default)\n",
    "    \n",
    "    @model_validator(mode='before')\n",
    "    @classmethod\n",
    "    def validate_before(cls, data):\n",
    "        \"\"\"Base class method for validating data before creating the model.\"\"\"\n",
    "        return data\n",
    "    \n",
    "    @model_validator(mode='after')\n",
    "    def validate(self):\n",
    "        \"\"\"Base class method for validating the model after creation.\"\"\"\n",
    "        return self"
   ]
  },
  {
   "cell_type": "markdown",
   "metadata": {},
   "source": [
    "# nbdev"
   ]
  },
  {
   "cell_type": "code",
   "execution_count": 4,
   "metadata": {},
   "outputs": [],
   "source": [
    "!nbdev_export"
   ]
  },
  {
   "cell_type": "code",
   "execution_count": null,
   "metadata": {},
   "outputs": [],
   "source": []
  }
 ],
 "metadata": {
  "kernelspec": {
   "display_name": "base",
   "language": "python",
   "name": "python3"
  },
  "language_info": {
   "codemirror_mode": {
    "name": "ipython",
    "version": 3
   },
   "file_extension": ".py",
   "mimetype": "text/x-python",
   "name": "python",
   "nbconvert_exporter": "python",
   "pygments_lexer": "ipython3",
   "version": "3.10.14"
  }
 },
 "nbformat": 4,
 "nbformat_minor": 2
}
