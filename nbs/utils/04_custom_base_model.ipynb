{
 "cells": [
  {
   "cell_type": "code",
   "execution_count": null,
   "metadata": {},
   "outputs": [],
   "source": [
    "# | default_exp utils/custom_base_model"
   ]
  },
  {
   "cell_type": "markdown",
   "metadata": {},
   "source": [
    "# Imports"
   ]
  },
  {
   "cell_type": "code",
   "execution_count": null,
   "metadata": {},
   "outputs": [],
   "source": [
    "# | export\n",
    "\n",
    "from typing import Any\n",
    "\n",
    "from pydantic import BaseModel, ConfigDict, Field, computed_field, field_validator, model_validator  # noqa: F401"
   ]
  },
  {
   "cell_type": "markdown",
   "metadata": {},
   "source": [
    "# Base Model"
   ]
  },
  {
   "cell_type": "code",
   "execution_count": null,
   "metadata": {},
   "outputs": [],
   "source": [
    "# | export\n",
    "\n",
    "\n",
    "class CustomBaseModel(BaseModel):\n",
    "    model_config = ConfigDict(\n",
    "        arbitrary_types_allowed=True,\n",
    "        extra=\"ignore\",\n",
    "        validate_default=True,\n",
    "        validate_assignment=True,\n",
    "        validate_return=True,\n",
    "    )\n",
    "\n",
    "    def get(self, key: str, default: Any = None) -> Any:\n",
    "        \"\"\"Returns the value of the key if it exists, otherwise returns the default value.\"\"\"\n",
    "        return getattr(self, key, default)\n",
    "\n",
    "    def setdefault(self, key: str, value: Any) -> None:\n",
    "        \"\"\"Sets the default value of the key if it does not exist.\"\"\"\n",
    "        if not hasattr(self, key):\n",
    "            setattr(self, key, value)\n",
    "\n",
    "    @classmethod\n",
    "    def model_validate(cls, obj, cast_to_super: bool = True, **kwargs):\n",
    "        \"\"\"Base class method for validating data before creating the model.\"\"\"\n",
    "        if cast_to_super:\n",
    "            # if the provided data is an instance of a subclass of the desired model, the validated model remains an\n",
    "            # instance of the subclass. This is not desired in this repo, so we convert CustomBaseModel instances to\n",
    "            # dictionaries before validating\n",
    "            if isinstance(obj, CustomBaseModel):\n",
    "                obj = obj.model_dump()\n",
    "        validated = super().model_validate(obj, **kwargs)\n",
    "        return validated\n",
    "\n",
    "    @model_validator(mode=\"before\")\n",
    "    @classmethod\n",
    "    def validate_before(cls, data):\n",
    "        \"\"\"Base class method for validating data before creating the model.\"\"\"\n",
    "        return data\n",
    "\n",
    "    @model_validator(mode=\"after\")\n",
    "    def validate(self):\n",
    "        \"\"\"Base method for validating the model after creation.\"\"\"\n",
    "        return self\n",
    "\n",
    "    def __contains__(self, key):\n",
    "        return hasattr(self, key)\n",
    "\n",
    "    def __or__(self, other: dict):\n",
    "        if not isinstance(other, (dict, CustomBaseModel)):\n",
    "            raise TypeError(f\"Cannot merge object of type {type(other)} with {self.__class__.__name__}\")\n",
    "        if isinstance(other, CustomBaseModel):\n",
    "            other = other.model_dump()\n",
    "        updated = self.model_copy(update=other, deep=True)  # Pydantic v2 way of updating fields\n",
    "        return updated"
   ]
  },
  {
   "cell_type": "code",
   "execution_count": null,
   "metadata": {},
   "outputs": [],
   "source": [
    "# Test\n",
    "\n",
    "\n",
    "class A(CustomBaseModel):\n",
    "    a: int\n",
    "\n",
    "\n",
    "class B(CustomBaseModel):\n",
    "    a: int\n",
    "    b: int = 100\n",
    "\n",
    "\n",
    "display(A(a=5) | {\"a\": 10, \"b\": 20})\n",
    "display(A(a=5) | B(a=10))"
   ]
  },
  {
   "cell_type": "code",
   "execution_count": null,
   "metadata": {},
   "outputs": [],
   "source": [
    "# Test\n",
    "\n",
    "\n",
    "class A(CustomBaseModel):\n",
    "    a: int = 5\n",
    "\n",
    "\n",
    "class B(A):\n",
    "    b: int = 10\n",
    "\n",
    "\n",
    "display(A.model_validate(B(), cast_to_super=False))\n",
    "display(A.model_validate(B(), cast_to_super=True))"
   ]
  },
  {
   "cell_type": "markdown",
   "metadata": {},
   "source": [
    "# nbdev"
   ]
  },
  {
   "cell_type": "code",
   "execution_count": null,
   "metadata": {},
   "outputs": [],
   "source": [
    "!nbdev_export"
   ]
  },
  {
   "cell_type": "code",
   "execution_count": null,
   "metadata": {},
   "outputs": [],
   "source": []
  }
 ],
 "metadata": {
  "kernelspec": {
   "display_name": "python3",
   "language": "python",
   "name": "python3"
  }
 },
 "nbformat": 4,
 "nbformat_minor": 2
}
