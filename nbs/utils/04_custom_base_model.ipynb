{
 "cells": [
  {
   "cell_type": "code",
   "execution_count": null,
   "metadata": {},
   "outputs": [],
   "source": [
    "# | default_exp utils/custom_base_model"
   ]
  },
  {
   "cell_type": "markdown",
   "metadata": {},
   "source": [
    "# Imports"
   ]
  },
  {
   "cell_type": "code",
   "execution_count": null,
   "metadata": {},
   "outputs": [],
   "source": [
    "# | export\n",
    "\n",
    "from typing import Any\n",
    "\n",
    "from pydantic import BaseModel, ConfigDict, Field, computed_field, model_validator  # noqa: F401"
   ]
  },
  {
   "cell_type": "markdown",
   "metadata": {},
   "source": [
    "# Base Model"
   ]
  },
  {
   "cell_type": "code",
   "execution_count": null,
   "metadata": {},
   "outputs": [],
   "source": [
    "# | export\n",
    "\n",
    "\n",
    "class CustomBaseModel(BaseModel):\n",
    "    model_config = ConfigDict(\n",
    "        arbitrary_types_allowed=True,\n",
    "        extra=\"ignore\",\n",
    "        validate_default=True,\n",
    "        validate_assignment=True,\n",
    "        validate_return=True,\n",
    "    )\n",
    "\n",
    "    def get(self, key: str, default: Any = None) -> Any:\n",
    "        \"\"\"Returns the value of the key if it exists, otherwise returns the default value.\"\"\"\n",
    "        return getattr(self, key, default)\n",
    "\n",
    "    @model_validator(mode=\"before\")\n",
    "    @classmethod\n",
    "    def validate_before(cls, data):\n",
    "        \"\"\"Base class method for validating data before creating the model.\"\"\"\n",
    "        return data\n",
    "\n",
    "    @model_validator(mode=\"after\")\n",
    "    def validate(self):\n",
    "        \"\"\"Base class method for validating the model after creation.\"\"\"\n",
    "        return self\n",
    "\n",
    "    def __contains__(self, key):\n",
    "        return key in self.model_fields\n",
    "\n",
    "    def __or__(self, other: dict):\n",
    "        if not isinstance(other, dict):\n",
    "            raise TypeError(f\"Cannot merge object of type {type(other)} with {self.__class__.__name__}\")\n",
    "        updated = self.model_copy(update=other, deep=True)  # Pydantic v2 way of updating fields\n",
    "        return updated"
   ]
  },
  {
   "cell_type": "code",
   "execution_count": null,
   "metadata": {},
   "outputs": [
    {
     "data": {
      "text/html": [
       "<pre style=\"white-space:pre;overflow-x:auto;line-height:normal;font-family:Menlo,'DejaVu Sans Mono',consolas,'Courier New',monospace\"></pre>\n"
      ],
      "text/plain": []
     },
     "metadata": {},
     "output_type": "display_data"
    },
    {
     "data": {
      "text/plain": [
       "\u001b[1;35mA\u001b[0m\u001b[1m(\u001b[0m\u001b[33ma\u001b[0m=\u001b[1;36m10\u001b[0m\u001b[1m)\u001b[0m"
      ]
     },
     "execution_count": null,
     "metadata": {},
     "output_type": "execute_result"
    }
   ],
   "source": [
    "# Test\n",
    "\n",
    "\n",
    "class A(CustomBaseModel):\n",
    "    a: int\n",
    "\n",
    "\n",
    "A(a=5) | {\"a\": 10, \"b\": 20}"
   ]
  },
  {
   "cell_type": "markdown",
   "metadata": {},
   "source": [
    "# nbdev"
   ]
  },
  {
   "cell_type": "code",
   "execution_count": null,
   "metadata": {},
   "outputs": [],
   "source": [
    "!nbdev_export"
   ]
  },
  {
   "cell_type": "code",
   "execution_count": null,
   "metadata": {},
   "outputs": [],
   "source": []
  }
 ],
 "metadata": {
  "kernelspec": {
   "display_name": "python3",
   "language": "python",
   "name": "python3"
  }
 },
 "nbformat": 4,
 "nbformat_minor": 2
}
