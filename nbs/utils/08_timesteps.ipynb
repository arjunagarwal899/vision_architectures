{
 "cells": [
  {
   "cell_type": "code",
   "execution_count": null,
   "id": "b1a35395",
   "metadata": {},
   "outputs": [],
   "source": [
    "# | default_exp utils/timesteps"
   ]
  },
  {
   "cell_type": "markdown",
   "id": "83a20bac",
   "metadata": {},
   "source": [
    "# Imports"
   ]
  },
  {
   "cell_type": "code",
   "execution_count": null,
   "id": "bb3d66d5",
   "metadata": {},
   "outputs": [],
   "source": [
    "# | export\n",
    "\n",
    "\n",
    "from typing import Literal\n",
    "\n",
    "import torch\n",
    "from torch import nn\n",
    "\n",
    "from vision_architectures.layers.embeddings import (  # noqa: F401\n",
    "    get_all_timestep_embeddings_1d,\n",
    "    get_timestep_embeddings_1d,\n",
    ")"
   ]
  },
  {
   "cell_type": "code",
   "execution_count": null,
   "id": "92feffab",
   "metadata": {},
   "outputs": [],
   "source": [
    "from matplotlib import pyplot as plt\n",
    "\n",
    "from vision_architectures.schedulers.noise import CosineNoiseScheduler"
   ]
  },
  {
   "cell_type": "markdown",
   "id": "499e93c3",
   "metadata": {},
   "source": [
    "# Sampler"
   ]
  },
  {
   "cell_type": "code",
   "execution_count": null,
   "id": "b7a5590b",
   "metadata": {},
   "outputs": [],
   "source": [
    "# | export\n",
    "\n",
    "\n",
    "class TimestepSampler(nn.Module):\n",
    "    \"\"\"Sampel timesteps using a strategy.\n",
    "\n",
    "    Args:\n",
    "        total_timesteps: Total number of timesteps.\n",
    "        strategy: Sampling strategy.\n",
    "        gamma_alpha: Used when strategy == gamma. Alpha parameter for the gamma distribution.\n",
    "        gamma_spread: Used when strategy == gamma. Controls how spread out the distribution is.\n",
    "        signal_to_noise_ratios: Used when strategy == importance. Signal-to-noise ratios of the noise schedule.\n",
    "        temperature: Used when strategy == importance. Temperature for the softmax distribution.\n",
    "    \"\"\"\n",
    "\n",
    "    def __init__(\n",
    "        self,\n",
    "        total_timesteps: int,\n",
    "        strategy: Literal[\"uniform\", \"gamma\", \"importance\"],\n",
    "        gamma_alpha: float = 1.0,\n",
    "        signal_to_noise_ratios: torch.Tensor = None,\n",
    "        temperature: float = 2.0,\n",
    "    ):\n",
    "        super().__init__()\n",
    "\n",
    "        self.T = total_timesteps\n",
    "        self.strategy = strategy\n",
    "\n",
    "        if strategy == \"uniform\":\n",
    "            # Sample uniformly from [1, T]\n",
    "            self.distribution = torch.distributions.Uniform(1, self.T + 1)\n",
    "        elif strategy == \"gamma\":\n",
    "            # Sample from a gamma distribution. There is no point in parameterizing beta as the sample is normalized\n",
    "            self.distribution = torch.distributions.Gamma(gamma_alpha, 1)\n",
    "        elif strategy == \"importance\":\n",
    "            raise NotImplementedError(\"This implementation still needs to be completed.\")\n",
    "            # Sample from [0, T] where prob(t) is d(log(SNR))/dt and prob(t=0) = 0\n",
    "            if signal_to_noise_ratios is None:\n",
    "                raise ValueError(\"signal_to_noise_ratios must be provided for importance sampling.\")\n",
    "\n",
    "            self.snr = signal_to_noise_ratios\n",
    "            self.log_snr = torch.log(signal_to_noise_ratios)\n",
    "            self.log_snr_gradient = torch.abs(self.log_snr[1:] - self.log_snr[:-1])\n",
    "            self.log_snr_gradient = torch.cat(\n",
    "                [\n",
    "                    torch.zeros(\n",
    "                        1,\n",
    "                    ),\n",
    "                    self.log_snr_gradient[0:1],\n",
    "                    self.log_snr_gradient,\n",
    "                ],\n",
    "                dim=0,\n",
    "            )\n",
    "            self.weights = self.log_snr_gradient ** (1 / temperature)\n",
    "            self.distribution = torch.distributions.Categorical(probs=self.weights)\n",
    "        else:\n",
    "            raise NotImplementedError(f\"Sampling strategy {strategy} not implemented.\")\n",
    "\n",
    "    def forward(self, num_timesteps: int):\n",
    "        \"\"\"Sample timesteps based on the specified strategy.\n",
    "\n",
    "        Args:\n",
    "            num_timesteps: Number of timesteps to sample.\n",
    "        \"\"\"\n",
    "        timesteps = self.distribution.sample((num_timesteps,))\n",
    "        if self.strategy == \"gamma\":\n",
    "            timesteps = timesteps / timesteps.max()\n",
    "            timesteps = timesteps * self.T\n",
    "        timesteps = timesteps.clamp(1, self.T).long()\n",
    "        return timesteps"
   ]
  },
  {
   "cell_type": "code",
   "execution_count": null,
   "id": "3c69377a",
   "metadata": {},
   "outputs": [
    {
     "name": "stdout",
     "output_type": "stream",
     "text": [
      "tensor([357, 869,  13, 344, 621, 537, 436, 522, 657, 664])\n"
     ]
    },
    {
     "data": {
      "text/html": [
       "<pre style=\"white-space:pre;overflow-x:auto;line-height:normal;font-family:Menlo,'DejaVu Sans Mono',consolas,'Courier New',monospace\"></pre>\n"
      ],
      "text/plain": []
     },
     "metadata": {},
     "output_type": "display_data"
    },
    {
     "data": {
      "image/png": "[encoded data removed]",
      "text/plain": [
       "\u001b[1m<\u001b[0m\u001b[1;95mFigure\u001b[0m\u001b[39m size 64\u001b[0m\u001b[1;36m0x480\u001b[0m\u001b[39m with \u001b[0m\u001b[1;36m1\u001b[0m\u001b[39m Axes\u001b[0m\u001b[1m>\u001b[0m"
      ]
     },
     "metadata": {},
     "output_type": "display_data"
    }
   ],
   "source": [
    "test = TimestepSampler(1000, \"uniform\")\n",
    "print(test(10))\n",
    "\n",
    "timesteps = test(1000)\n",
    "plt.hist(timesteps)\n",
    "plt.show()"
   ]
  },
  {
   "cell_type": "code",
   "execution_count": null,
   "id": "324c0c50",
   "metadata": {},
   "outputs": [
    {
     "name": "stdout",
     "output_type": "stream",
     "text": [
      "tensor([1000,   89,  197,   49,  376,  177,   54,   66,  205,  594])\n"
     ]
    },
    {
     "data": {
      "text/html": [
       "<pre style=\"white-space:pre;overflow-x:auto;line-height:normal;font-family:Menlo,'DejaVu Sans Mono',consolas,'Courier New',monospace\"></pre>\n"
      ],
      "text/plain": []
     },
     "metadata": {},
     "output_type": "display_data"
    },
    {
     "data": {
      "image/png": "[encoded data removed]",
      "text/plain": [
       "\u001b[1m<\u001b[0m\u001b[1;95mFigure\u001b[0m\u001b[39m size 64\u001b[0m\u001b[1;36m0x480\u001b[0m\u001b[39m with \u001b[0m\u001b[1;36m1\u001b[0m\u001b[39m Axes\u001b[0m\u001b[1m>\u001b[0m"
      ]
     },
     "metadata": {},
     "output_type": "display_data"
    }
   ],
   "source": [
    "test = TimestepSampler(1000, \"gamma\")\n",
    "print(test(10))\n",
    "\n",
    "timesteps = test(1000)\n",
    "plt.hist(timesteps, bins=100)\n",
    "plt.show()"
   ]
  },
  {
   "cell_type": "code",
   "execution_count": null,
   "id": "5116ba71",
   "metadata": {},
   "outputs": [
    {
     "data": {
      "text/html": [
       "<pre style=\"white-space:pre;overflow-x:auto;line-height:normal;font-family:Menlo,'DejaVu Sans Mono',consolas,'Courier New',monospace\"><span style=\"color: #800000; text-decoration-color: #800000\">╭─────────────────────────────── </span><span style=\"color: #800000; text-decoration-color: #800000; font-weight: bold\">Traceback </span><span style=\"color: #bf7f7f; text-decoration-color: #bf7f7f; font-weight: bold\">(most recent call last)</span><span style=\"color: #800000; text-decoration-color: #800000\"> ────────────────────────────────╮</span>\n",
       "<span style=\"color: #800000; text-decoration-color: #800000\">│</span> in <span style=\"color: #00ff00; text-decoration-color: #00ff00\">&lt;module&gt;</span>:<span style=\"color: #0000ff; text-decoration-color: #0000ff\">3</span>                                                                                    <span style=\"color: #800000; text-decoration-color: #800000\">│</span>\n",
       "<span style=\"color: #800000; text-decoration-color: #800000\">│</span>                                                                                                  <span style=\"color: #800000; text-decoration-color: #800000\">│</span>\n",
       "<span style=\"color: #800000; text-decoration-color: #800000\">│</span>   <span style=\"color: #7f7f7f; text-decoration-color: #7f7f7f\"> 1 </span>T = <span style=\"color: #0000ff; text-decoration-color: #0000ff\">1000</span>                                                                                    <span style=\"color: #800000; text-decoration-color: #800000\">│</span>\n",
       "<span style=\"color: #800000; text-decoration-color: #800000\">│</span>   <span style=\"color: #7f7f7f; text-decoration-color: #7f7f7f\"> 2 </span>scheduler = CosineNoiseScheduler(T)                                                         <span style=\"color: #800000; text-decoration-color: #800000\">│</span>\n",
       "<span style=\"color: #800000; text-decoration-color: #800000\">│</span> <span style=\"color: #800000; text-decoration-color: #800000\">❱ </span> 3 test = <span style=\"font-weight: bold; text-decoration: underline\">TimestepSampler(</span>                                                                     <span style=\"color: #800000; text-decoration-color: #800000\">│</span>\n",
       "<span style=\"color: #800000; text-decoration-color: #800000\">│</span>   <span style=\"color: #7f7f7f; text-decoration-color: #7f7f7f\"> 4 </span><span style=\"color: #7f7f7f; text-decoration-color: #7f7f7f; font-weight: bold; text-decoration: underline\">│   </span><span style=\"font-weight: bold; text-decoration: underline\">T, </span><span style=\"color: #808000; text-decoration-color: #808000; font-weight: bold; text-decoration: underline\">\"importance\"</span><span style=\"font-weight: bold; text-decoration: underline\">, signal_to_noise_ratios=scheduler.get_snr(torch.linspace(</span><span style=\"color: #0000ff; text-decoration-color: #0000ff; font-weight: bold; text-decoration: underline\">1</span><span style=\"font-weight: bold; text-decoration: underline\">, T, T, dt</span>    <span style=\"color: #800000; text-decoration-color: #800000\">│</span>\n",
       "<span style=\"color: #800000; text-decoration-color: #800000\">│</span>   <span style=\"color: #7f7f7f; text-decoration-color: #7f7f7f\"> 5 </span><span style=\"font-weight: bold; text-decoration: underline\">)</span>                                                                                           <span style=\"color: #800000; text-decoration-color: #800000\">│</span>\n",
       "<span style=\"color: #800000; text-decoration-color: #800000\">│</span>   <span style=\"color: #7f7f7f; text-decoration-color: #7f7f7f\"> 6 </span><span style=\"color: #00ffff; text-decoration-color: #00ffff\">print</span>(test(<span style=\"color: #0000ff; text-decoration-color: #0000ff\">10</span>))                                                                             <span style=\"color: #800000; text-decoration-color: #800000\">│</span>\n",
       "<span style=\"color: #800000; text-decoration-color: #800000\">│</span>                                                                                                  <span style=\"color: #800000; text-decoration-color: #800000\">│</span>\n",
       "<span style=\"color: #800000; text-decoration-color: #800000\">│</span> in <span style=\"color: #00ff00; text-decoration-color: #00ff00\">__init__</span>:<span style=\"color: #0000ff; text-decoration-color: #0000ff\">36</span>                                                                                   <span style=\"color: #800000; text-decoration-color: #800000\">│</span>\n",
       "<span style=\"color: #800000; text-decoration-color: #800000\">│</span>                                                                                                  <span style=\"color: #800000; text-decoration-color: #800000\">│</span>\n",
       "<span style=\"color: #800000; text-decoration-color: #800000\">│</span>   <span style=\"color: #7f7f7f; text-decoration-color: #7f7f7f\">33 </span><span style=\"color: #7f7f7f; text-decoration-color: #7f7f7f\">│   │   │   </span><span style=\"color: #7f7f7f; text-decoration-color: #7f7f7f\"># Sample from a gamma distribution. There is no point in parameterizing beta</span>    <span style=\"color: #800000; text-decoration-color: #800000\">│</span>\n",
       "<span style=\"color: #800000; text-decoration-color: #800000\">│</span>   <span style=\"color: #7f7f7f; text-decoration-color: #7f7f7f\">34 </span><span style=\"color: #7f7f7f; text-decoration-color: #7f7f7f\">│   │   │   </span><span style=\"color: #00ffff; text-decoration-color: #00ffff\">self</span>.distribution = torch.distributions.Gamma(gamma_alpha, <span style=\"color: #0000ff; text-decoration-color: #0000ff\">1</span>)                   <span style=\"color: #800000; text-decoration-color: #800000\">│</span>\n",
       "<span style=\"color: #800000; text-decoration-color: #800000\">│</span>   <span style=\"color: #7f7f7f; text-decoration-color: #7f7f7f\">35 </span><span style=\"color: #7f7f7f; text-decoration-color: #7f7f7f\">│   │   </span><span style=\"color: #0000ff; text-decoration-color: #0000ff\">elif</span> strategy == <span style=\"color: #808000; text-decoration-color: #808000\">\"importance\"</span>:                                                      <span style=\"color: #800000; text-decoration-color: #800000\">│</span>\n",
       "<span style=\"color: #800000; text-decoration-color: #800000\">│</span> <span style=\"color: #800000; text-decoration-color: #800000\">❱ </span>36 <span style=\"color: #7f7f7f; text-decoration-color: #7f7f7f\">│   │   │   </span><span style=\"color: #0000ff; text-decoration-color: #0000ff; font-weight: bold; text-decoration: underline\">raise</span><span style=\"font-weight: bold; text-decoration: underline\"> </span><span style=\"color: #00ffff; text-decoration-color: #00ffff; font-weight: bold; text-decoration: underline\">NotImplementedError</span><span style=\"font-weight: bold; text-decoration: underline\">(</span><span style=\"color: #808000; text-decoration-color: #808000; font-weight: bold; text-decoration: underline\">\"This implementation still needs to be completed.\"</span>    <span style=\"color: #800000; text-decoration-color: #800000\">│</span>\n",
       "<span style=\"color: #800000; text-decoration-color: #800000\">│</span>   <span style=\"color: #7f7f7f; text-decoration-color: #7f7f7f\">37 </span><span style=\"color: #7f7f7f; text-decoration-color: #7f7f7f\">│   │   │   </span><span style=\"color: #7f7f7f; text-decoration-color: #7f7f7f\"># Sample from [0, T] where prob(t) is d(log(SNR))/dt and prob(t=0) = 0</span>          <span style=\"color: #800000; text-decoration-color: #800000\">│</span>\n",
       "<span style=\"color: #800000; text-decoration-color: #800000\">│</span>   <span style=\"color: #7f7f7f; text-decoration-color: #7f7f7f\">38 </span><span style=\"color: #7f7f7f; text-decoration-color: #7f7f7f\">│   │   │   </span><span style=\"color: #0000ff; text-decoration-color: #0000ff\">if</span> signal_to_noise_ratios <span style=\"color: #ff00ff; text-decoration-color: #ff00ff\">is</span> <span style=\"color: #0000ff; text-decoration-color: #0000ff\">None</span>:                                              <span style=\"color: #800000; text-decoration-color: #800000\">│</span>\n",
       "<span style=\"color: #800000; text-decoration-color: #800000\">│</span>   <span style=\"color: #7f7f7f; text-decoration-color: #7f7f7f\">39 </span><span style=\"color: #7f7f7f; text-decoration-color: #7f7f7f\">│   │   │   │   </span><span style=\"color: #0000ff; text-decoration-color: #0000ff\">raise</span> <span style=\"color: #00ffff; text-decoration-color: #00ffff\">ValueError</span>(<span style=\"color: #808000; text-decoration-color: #808000\">\"signal_to_noise_ratios must be provided for importance</span>    <span style=\"color: #800000; text-decoration-color: #800000\">│</span>\n",
       "<span style=\"color: #800000; text-decoration-color: #800000\">╰──────────────────────────────────────────────────────────────────────────────────────────────────╯</span>\n",
       "<span style=\"color: #ff0000; text-decoration-color: #ff0000; font-weight: bold\">NotImplementedError: </span>This implementation still needs to be completed.\n",
       "</pre>\n"
      ],
      "text/plain": [
       "\u001b[31m╭─\u001b[0m\u001b[31m──────────────────────────────\u001b[0m\u001b[31m \u001b[0m\u001b[1;31mTraceback \u001b[0m\u001b[1;2;31m(most recent call last)\u001b[0m\u001b[31m \u001b[0m\u001b[31m───────────────────────────────\u001b[0m\u001b[31m─╮\u001b[0m\n",
       "\u001b[31m│\u001b[0m in \u001b[92m<module>\u001b[0m:\u001b[94m3\u001b[0m                                                                                    \u001b[31m│\u001b[0m\n",
       "\u001b[31m│\u001b[0m                                                                                                  \u001b[31m│\u001b[0m\n",
       "\u001b[31m│\u001b[0m   \u001b[2m 1 \u001b[0mT = \u001b[94m1000\u001b[0m                                                                                    \u001b[31m│\u001b[0m\n",
       "\u001b[31m│\u001b[0m   \u001b[2m 2 \u001b[0mscheduler = CosineNoiseScheduler(T)                                                         \u001b[31m│\u001b[0m\n",
       "\u001b[31m│\u001b[0m \u001b[31m❱ \u001b[0m 3 test = \u001b[1;4mTimestepSampler(\u001b[0m                                                                     \u001b[31m│\u001b[0m\n",
       "\u001b[31m│\u001b[0m   \u001b[2m 4 \u001b[0m\u001b[1;2;4m│   \u001b[0m\u001b[1;4mT, \u001b[0m\u001b[1;4;33m\"\u001b[0m\u001b[1;4;33mimportance\u001b[0m\u001b[1;4;33m\"\u001b[0m\u001b[1;4m, signal_to_noise_ratios=scheduler.get_snr(torch.linspace(\u001b[0m\u001b[1;4;94m1\u001b[0m\u001b[1;4m, T, T, dt\u001b[0m    \u001b[31m│\u001b[0m\n",
       "\u001b[31m│\u001b[0m   \u001b[2m 5 \u001b[0m\u001b[1;4m)\u001b[0m                                                                                           \u001b[31m│\u001b[0m\n",
       "\u001b[31m│\u001b[0m   \u001b[2m 6 \u001b[0m\u001b[96mprint\u001b[0m(test(\u001b[94m10\u001b[0m))                                                                             \u001b[31m│\u001b[0m\n",
       "\u001b[31m│\u001b[0m                                                                                                  \u001b[31m│\u001b[0m\n",
       "\u001b[31m│\u001b[0m in \u001b[92m__init__\u001b[0m:\u001b[94m36\u001b[0m                                                                                   \u001b[31m│\u001b[0m\n",
       "\u001b[31m│\u001b[0m                                                                                                  \u001b[31m│\u001b[0m\n",
       "\u001b[31m│\u001b[0m   \u001b[2m33 \u001b[0m\u001b[2m│   │   │   \u001b[0m\u001b[2m# Sample from a gamma distribution. There is no point in parameterizing beta\u001b[0m    \u001b[31m│\u001b[0m\n",
       "\u001b[31m│\u001b[0m   \u001b[2m34 \u001b[0m\u001b[2m│   │   │   \u001b[0m\u001b[96mself\u001b[0m.distribution = torch.distributions.Gamma(gamma_alpha, \u001b[94m1\u001b[0m)                   \u001b[31m│\u001b[0m\n",
       "\u001b[31m│\u001b[0m   \u001b[2m35 \u001b[0m\u001b[2m│   │   \u001b[0m\u001b[94melif\u001b[0m strategy == \u001b[33m\"\u001b[0m\u001b[33mimportance\u001b[0m\u001b[33m\"\u001b[0m:                                                      \u001b[31m│\u001b[0m\n",
       "\u001b[31m│\u001b[0m \u001b[31m❱ \u001b[0m36 \u001b[2m│   │   │   \u001b[0m\u001b[1;4;94mraise\u001b[0m\u001b[1;4m \u001b[0m\u001b[1;4;96mNotImplementedError\u001b[0m\u001b[1;4m(\u001b[0m\u001b[1;4;33m\"\u001b[0m\u001b[1;4;33mThis implementation still needs to be completed.\u001b[0m\u001b[1;4;33m\"\u001b[0m    \u001b[31m│\u001b[0m\n",
       "\u001b[31m│\u001b[0m   \u001b[2m37 \u001b[0m\u001b[2m│   │   │   \u001b[0m\u001b[2m# Sample from [0, T] where prob(t) is d(log(SNR))/dt and prob(t=0) = 0\u001b[0m          \u001b[31m│\u001b[0m\n",
       "\u001b[31m│\u001b[0m   \u001b[2m38 \u001b[0m\u001b[2m│   │   │   \u001b[0m\u001b[94mif\u001b[0m signal_to_noise_ratios \u001b[95mis\u001b[0m \u001b[94mNone\u001b[0m:                                              \u001b[31m│\u001b[0m\n",
       "\u001b[31m│\u001b[0m   \u001b[2m39 \u001b[0m\u001b[2m│   │   │   │   \u001b[0m\u001b[94mraise\u001b[0m \u001b[96mValueError\u001b[0m(\u001b[33m\"\u001b[0m\u001b[33msignal_to_noise_ratios must be provided for importance\u001b[0m    \u001b[31m│\u001b[0m\n",
       "\u001b[31m╰──────────────────────────────────────────────────────────────────────────────────────────────────╯\u001b[0m\n",
       "\u001b[1;91mNotImplementedError: \u001b[0mThis implementation still needs to be completed.\n"
      ]
     },
     "metadata": {},
     "output_type": "display_data"
    }
   ],
   "source": [
    "T = 1000\n",
    "scheduler = CosineNoiseScheduler(T)\n",
    "test = TimestepSampler(\n",
    "    T, \"importance\", signal_to_noise_ratios=scheduler.get_snr(torch.linspace(1, T, T, dtype=torch.long))\n",
    ")\n",
    "print(test(10))\n",
    "\n",
    "timesteps = test(T)\n",
    "plt.hist(timesteps, bins=100)\n",
    "plt.show()"
   ]
  },
  {
   "cell_type": "markdown",
   "id": "d98e753b",
   "metadata": {},
   "source": [
    "# nbdev"
   ]
  },
  {
   "cell_type": "code",
   "execution_count": null,
   "id": "75088a26",
   "metadata": {},
   "outputs": [],
   "source": [
    "!nbdev_export"
   ]
  },
  {
   "cell_type": "code",
   "execution_count": null,
   "id": "1a44cc7d",
   "metadata": {},
   "outputs": [],
   "source": []
  }
 ],
 "metadata": {
  "kernelspec": {
   "display_name": "python3",
   "language": "python",
   "name": "python3"
  }
 },
 "nbformat": 4,
 "nbformat_minor": 5
}
