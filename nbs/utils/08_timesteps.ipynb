{
 "cells": [
  {
   "cell_type": "code",
   "execution_count": null,
   "id": "b1a35395",
   "metadata": {},
   "outputs": [],
   "source": [
    "# | default_exp utils/timesteps"
   ]
  },
  {
   "cell_type": "markdown",
   "id": "83a20bac",
   "metadata": {},
   "source": [
    "# Imports"
   ]
  },
  {
   "cell_type": "code",
   "execution_count": null,
   "id": "bb3d66d5",
   "metadata": {},
   "outputs": [],
   "source": [
    "# | export\n",
    "\n",
    "\n",
    "from typing import Literal\n",
    "\n",
    "import torch\n",
    "from torch import nn\n",
    "\n",
    "from vision_architectures.layers.embeddings import (  # noqa: F401\n",
    "    get_all_timestep_embeddings_1d,\n",
    "    get_timestep_embeddings_1d,\n",
    ")"
   ]
  },
  {
   "cell_type": "code",
   "execution_count": null,
   "id": "92feffab",
   "metadata": {},
   "outputs": [],
   "source": [
    "from matplotlib import pyplot as plt"
   ]
  },
  {
   "cell_type": "markdown",
   "id": "499e93c3",
   "metadata": {},
   "source": [
    "# Sampler"
   ]
  },
  {
   "cell_type": "code",
   "execution_count": null,
   "id": "b7a5590b",
   "metadata": {},
   "outputs": [],
   "source": [
    "# | export\n",
    "\n",
    "\n",
    "class TimestepSampler(nn.Module):\n",
    "    \"\"\"Sampel timesteps using a strategy.\n",
    "\n",
    "    Args:\n",
    "        total_timesteps: Total number of timesteps.\n",
    "        strategy: Sampling strategy. Can be \"gamma\" or \"uniform\".\n",
    "        gamma_alpha: Alpha parameter for the gamma distribution.\n",
    "        gamma_beta: Beta parameter for the gamma distribution.\n",
    "    \"\"\"\n",
    "\n",
    "    def __init__(\n",
    "        self,\n",
    "        total_timesteps: int,\n",
    "        strategy: Literal[\"gamma\", \"uniform\"],\n",
    "        gamma_alpha: float = 1.0,\n",
    "        gamma_beta: float = 1.0,\n",
    "    ):\n",
    "        super().__init__()\n",
    "\n",
    "        self.total_timesteps = total_timesteps\n",
    "        self.strategy = strategy\n",
    "\n",
    "        if strategy == \"uniform\":\n",
    "            self.distribution = torch.distributions.Uniform(0, 1)\n",
    "        elif strategy == \"gamma\":\n",
    "            self.distribution = torch.distributions.Gamma(gamma_alpha, gamma_beta)\n",
    "        else:\n",
    "            raise NotImplementedError(f\"Sampling strategy {strategy} not implemented.\")\n",
    "\n",
    "    def forward(self, num_timesteps: int):\n",
    "        \"\"\"Sample timesteps based on the specified strategy.\n",
    "\n",
    "        Args:\n",
    "            num_timesteps: Number of timesteps to sample.\n",
    "        \"\"\"\n",
    "        timesteps = self.distribution.sample((num_timesteps,))\n",
    "        timesteps = timesteps / timesteps.max()\n",
    "        timesteps = (timesteps * self.total_timesteps).long()\n",
    "        timesteps = torch.clamp(timesteps, 0, self.total_timesteps - 1) + 1\n",
    "        return timesteps"
   ]
  },
  {
   "cell_type": "code",
   "execution_count": null,
   "id": "3c69377a",
   "metadata": {},
   "outputs": [
    {
     "name": "stdout",
     "output_type": "stream",
     "text": [
      "tensor([ 512,   64, 1000,  252,  285,  160,  887,  456,   43,  546])\n"
     ]
    },
    {
     "data": {
      "text/html": [
       "<pre style=\"white-space:pre;overflow-x:auto;line-height:normal;font-family:Menlo,'DejaVu Sans Mono',consolas,'Courier New',monospace\"></pre>\n"
      ],
      "text/plain": []
     },
     "metadata": {},
     "output_type": "display_data"
    },
    {
     "data": {
      "image/png": "[encoded data removed]",
      "text/plain": [
       "\u001b[1m<\u001b[0m\u001b[1;95mFigure\u001b[0m\u001b[39m size 64\u001b[0m\u001b[1;36m0x480\u001b[0m\u001b[39m with \u001b[0m\u001b[1;36m1\u001b[0m\u001b[39m Axes\u001b[0m\u001b[1m>\u001b[0m"
      ]
     },
     "metadata": {},
     "output_type": "display_data"
    }
   ],
   "source": [
    "test = TimestepSampler(1000, \"uniform\")\n",
    "print(test(10))\n",
    "\n",
    "timesteps = test(1000)\n",
    "plt.hist(timesteps)\n",
    "plt.show()"
   ]
  },
  {
   "cell_type": "code",
   "execution_count": null,
   "id": "324c0c50",
   "metadata": {},
   "outputs": [
    {
     "name": "stdout",
     "output_type": "stream",
     "text": [
      "tensor([ 121,   65,  642, 1000,  462,  291,   82,  899,   13,  247])\n"
     ]
    },
    {
     "data": {
      "text/html": [
       "<pre style=\"white-space:pre;overflow-x:auto;line-height:normal;font-family:Menlo,'DejaVu Sans Mono',consolas,'Courier New',monospace\"></pre>\n"
      ],
      "text/plain": []
     },
     "metadata": {},
     "output_type": "display_data"
    },
    {
     "data": {
      "image/png": "[encoded data removed]",
      "text/plain": [
       "\u001b[1m<\u001b[0m\u001b[1;95mFigure\u001b[0m\u001b[39m size 64\u001b[0m\u001b[1;36m0x480\u001b[0m\u001b[39m with \u001b[0m\u001b[1;36m1\u001b[0m\u001b[39m Axes\u001b[0m\u001b[1m>\u001b[0m"
      ]
     },
     "metadata": {},
     "output_type": "display_data"
    }
   ],
   "source": [
    "test = TimestepSampler(1000, \"gamma\")\n",
    "print(test(10))\n",
    "\n",
    "timesteps = test(1000)\n",
    "plt.hist(timesteps)\n",
    "plt.show()"
   ]
  },
  {
   "cell_type": "markdown",
   "id": "d98e753b",
   "metadata": {},
   "source": [
    "# nbdev"
   ]
  },
  {
   "cell_type": "code",
   "execution_count": null,
   "id": "75088a26",
   "metadata": {},
   "outputs": [],
   "source": [
    "!nbdev_export"
   ]
  },
  {
   "cell_type": "code",
   "execution_count": null,
   "id": "1a44cc7d",
   "metadata": {},
   "outputs": [],
   "source": []
  }
 ],
 "metadata": {
  "kernelspec": {
   "display_name": "python3",
   "language": "python",
   "name": "python3"
  }
 },
 "nbformat": 4,
 "nbformat_minor": 5
}
