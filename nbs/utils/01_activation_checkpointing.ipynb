{
 "cells": [
  {
   "cell_type": "code",
   "execution_count": null,
   "metadata": {},
   "outputs": [],
   "source": [
    "# | default_exp utils/activation_checkpointing"
   ]
  },
  {
   "cell_type": "markdown",
   "metadata": {},
   "source": [
    "# Imports"
   ]
  },
  {
   "cell_type": "code",
   "execution_count": null,
   "metadata": {},
   "outputs": [],
   "source": [
    "# | export\n",
    "\n",
    "from typing import Callable\n",
    "\n",
    "from torch.utils.checkpoint import checkpoint"
   ]
  },
  {
   "cell_type": "markdown",
   "metadata": {},
   "source": [
    "# Main class"
   ]
  },
  {
   "cell_type": "code",
   "execution_count": 3,
   "metadata": {},
   "outputs": [],
   "source": [
    "# | export\n",
    "\n",
    "class ActivationCheckpointing():\n",
    "    \"\"\"Activation checkpointing levels:\n",
    "        Level 0: No checkpointing\n",
    "        Level 1: Single layers are checkpointed e.g. linear / conv layers\n",
    "        Level 2: Small blocks are checkpointed e.g. residual blocks, attention blocks\n",
    "        Level 3: Medium-sized modules are checkpointed e.g. transformer layers, decoder blocks\n",
    "        Level 4: Large modules are checkpointed e.g. groups of transformer layers, decoder stages\n",
    "        Level 5: Very large modules are checkpointed e.g. entire encoders, decoders etc.\n",
    "    \"\"\"\n",
    "    def __init__(self, fn_checkpoint_level: int, training_checkpoint_level: int):\n",
    "        super().__init__()\n",
    "\n",
    "        self.perform_checkpointing = (fn_checkpoint_level <= training_checkpoint_level)\n",
    "\n",
    "    def __call__(self, fn: Callable, *args, **kwargs):\n",
    "        if self.perform_checkpointing:\n",
    "            return checkpoint(lambda: fn(*args, **kwargs), use_reentrant=False)\n",
    "        return fn(*args, **kwargs)"
   ]
  },
  {
   "cell_type": "markdown",
   "metadata": {},
   "source": [
    "# nbdev"
   ]
  },
  {
   "cell_type": "code",
   "execution_count": 4,
   "metadata": {},
   "outputs": [],
   "source": [
    "!nbdev_export"
   ]
  },
  {
   "cell_type": "code",
   "execution_count": null,
   "metadata": {},
   "outputs": [],
   "source": []
  }
 ],
 "metadata": {
  "kernelspec": {
   "display_name": "base",
   "language": "python",
   "name": "python3"
  },
  "language_info": {
   "codemirror_mode": {
    "name": "ipython",
    "version": 3
   },
   "file_extension": ".py",
   "mimetype": "text/x-python",
   "name": "python",
   "nbconvert_exporter": "python",
   "pygments_lexer": "ipython3",
   "version": "3.10.14"
  }
 },
 "nbformat": 4,
 "nbformat_minor": 2
}
