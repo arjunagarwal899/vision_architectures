{
 "cells": [
  {
   "cell_type": "code",
   "execution_count": null,
   "metadata": {},
   "outputs": [],
   "source": [
    "# | default_exp utils/residuals"
   ]
  },
  {
   "cell_type": "markdown",
   "metadata": {},
   "source": [
    "# Imports"
   ]
  },
  {
   "cell_type": "code",
   "execution_count": null,
   "metadata": {},
   "outputs": [],
   "source": [
    "# | export\n",
    "\n",
    "\n",
    "from typing import Literal\n",
    "\n",
    "import torch\n",
    "from torch import nn"
   ]
  },
  {
   "cell_type": "markdown",
   "metadata": {},
   "source": [
    "# Setup"
   ]
  },
  {
   "cell_type": "code",
   "execution_count": null,
   "metadata": {},
   "outputs": [],
   "source": [
    "# | export\n",
    "\n",
    "\n",
    "class Residual(nn.Module):\n",
    "    \"\"\"A simple residual connection.\n",
    "\n",
    "    This has been saved as an nn.Module so that it can always be converted to a stochastic version if required.\n",
    "    \"\"\"\n",
    "\n",
    "    def forward(self, old_value: torch.Tensor, new_value: torch.Tensor):\n",
    "        \"\"\"Simply adds the new value to the old value.\n",
    "\n",
    "        Args:\n",
    "            old_value: Old value to be added to.\n",
    "            new_value: New value to be added.\n",
    "\n",
    "        Returns:\n",
    "            Value after adding the new value to the old value.\n",
    "        \"\"\"\n",
    "        return old_value + new_value"
   ]
  },
  {
   "cell_type": "code",
   "execution_count": null,
   "metadata": {},
   "outputs": [],
   "source": [
    "# | export\n",
    "\n",
    "\n",
    "class StochasticDepthResidual(Residual):\n",
    "    \"\"\"This class can be wrapped around a list of modules to randomly drop some of them during training.\"\"\"\n",
    "\n",
    "    def __init__(self, survival_prob: float = 1.0, dropout_type: Literal[\"layer\", \"neuron\"] = \"layer\"):\n",
    "        \"\"\"Initializes the StochasticDepthResidual module.\n",
    "\n",
    "        Use ``dropout_type=\"layer\"`` for most occasions as that implements true stochastic depth dropout as per SOTA\n",
    "        papers. Use `dropout_type=\"neuron\"` only if you want to drop individual neurons.\n",
    "\n",
    "        Args:\n",
    "            survival_prob: Prbability that every layer / neuron will survive the residual connection. Defaults to 1.0.\n",
    "            dropout_type: Defaults to \"layer\".\n",
    "        \"\"\"\n",
    "\n",
    "        super().__init__()\n",
    "        assert 1.0 >= survival_prob > 0.0, \"Survival probability must be between (0, 1]\"\n",
    "        self.survival_prob = survival_prob\n",
    "        self.dropout_type = dropout_type\n",
    "\n",
    "    def forward(self, old_value: torch.Tensor, new_value: torch.Tensor):\n",
    "        \"\"\"Drops the new value with a certain probability and scales the remaining value before adding it to the old\n",
    "        value. See :py:class:`Residual` for more details.\n",
    "\n",
    "        Args:\n",
    "            old_value: Old value to be added to.\n",
    "            new_value: New value to be added.\n",
    "\n",
    "        Returns:\n",
    "            Value after performing stochastic depth and adding the new value to the old value.\n",
    "        \"\"\"\n",
    "\n",
    "        if not self.training:\n",
    "            return super().forward(old_value, new_value)\n",
    "\n",
    "        if self.dropout_type == \"layer\":\n",
    "            ndim = new_value.ndim\n",
    "            mask_shape = tuple([new_value.shape[0]] + [1] * (ndim - 1))\n",
    "        elif self.dropout_type == \"neuron\":\n",
    "            mask_shape = new_value.shape\n",
    "\n",
    "        survival_mask = torch.rand(mask_shape, device=new_value.device) < self.survival_prob\n",
    "        new_value = (new_value * survival_mask) / self.survival_prob\n",
    "        return super().forward(old_value, new_value)\n",
    "\n",
    "    def extra_repr(self) -> str:\n",
    "        return f\"survival_prob={self.survival_prob}, dropout_type='{self.dropout_type}'\""
   ]
  },
  {
   "cell_type": "code",
   "execution_count": null,
   "metadata": {},
   "outputs": [
    {
     "data": {
      "text/html": [
       "<pre style=\"white-space:pre;overflow-x:auto;line-height:normal;font-family:Menlo,'DejaVu Sans Mono',consolas,'Courier New',monospace\"></pre>\n"
      ],
      "text/plain": []
     },
     "metadata": {},
     "output_type": "display_data"
    },
    {
     "data": {
      "text/plain": [
       "\u001b[1;35mStochasticDepthResidual\u001b[0m\u001b[1m(\u001b[0m\u001b[33msurvival_prob\u001b[0m=\u001b[1;36m0\u001b[0m\u001b[1;36m.8\u001b[0m, \u001b[33mdropout_type\u001b[0m=\u001b[32m'layer'\u001b[0m\u001b[1m)\u001b[0m"
      ]
     },
     "metadata": {},
     "output_type": "display_data"
    },
    {
     "data": {
      "text/html": [
       "<pre style=\"white-space:pre;overflow-x:auto;line-height:normal;font-family:Menlo,'DejaVu Sans Mono',consolas,'Courier New',monospace\"></pre>\n"
      ],
      "text/plain": []
     },
     "metadata": {},
     "output_type": "display_data"
    },
    {
     "data": {
      "text/plain": [
       "\u001b[1;35mtorch.Size\u001b[0m\u001b[1m(\u001b[0m\u001b[1m[\u001b[0m\u001b[1;36m10\u001b[0m, \u001b[1;36m3\u001b[0m, \u001b[1;36m32\u001b[0m, \u001b[1;36m32\u001b[0m\u001b[1m]\u001b[0m\u001b[1m)\u001b[0m"
      ]
     },
     "execution_count": null,
     "metadata": {},
     "output_type": "execute_result"
    }
   ],
   "source": [
    "test = StochasticDepthResidual(0.8)\n",
    "display(test)\n",
    "\n",
    "x = torch.randn(10, 3, 32, 32)\n",
    "test(x, x).shape"
   ]
  },
  {
   "cell_type": "code",
   "execution_count": null,
   "metadata": {},
   "outputs": [],
   "source": [
    "# | export\n",
    "\n",
    "\n",
    "def add_stochastic_depth_dropout(module: nn.Module, *args, **kwargs):\n",
    "    \"\"\"Converts all instances of :py:class:`Residual` in a module to :py:class:`StochasticDepthResidual`.\"\"\"\n",
    "\n",
    "    for name, submodule in module.named_modules():\n",
    "        if isinstance(submodule, Residual):\n",
    "            parent_module = module\n",
    "            for part in name.split(\".\")[:-1]:\n",
    "                parent_module = getattr(parent_module, part)\n",
    "            name = name.split(\".\")[-1]\n",
    "            setattr(parent_module, name, StochasticDepthResidual(*args, **kwargs))\n",
    "    return module"
   ]
  },
  {
   "cell_type": "code",
   "execution_count": null,
   "metadata": {},
   "outputs": [
    {
     "data": {
      "text/html": [
       "<pre style=\"white-space:pre;overflow-x:auto;line-height:normal;font-family:Menlo,'DejaVu Sans Mono',consolas,'Courier New',monospace\"></pre>\n"
      ],
      "text/plain": []
     },
     "metadata": {},
     "output_type": "display_data"
    },
    {
     "data": {
      "text/plain": [
       "\n",
       "\u001b[1;35mB\u001b[0m\u001b[1m(\u001b[0m\n",
       "  \u001b[1m(\u001b[0mres\u001b[1m)\u001b[0m: \u001b[1;35mResidual\u001b[0m\u001b[1m(\u001b[0m\u001b[1m)\u001b[0m\n",
       "  \u001b[1m(\u001b[0ma\u001b[1m)\u001b[0m: \u001b[1;35mA\u001b[0m\u001b[1m(\u001b[0m\n",
       "    \u001b[1m(\u001b[0mres1\u001b[1m)\u001b[0m: \u001b[1;35mResidual\u001b[0m\u001b[1m(\u001b[0m\u001b[1m)\u001b[0m\n",
       "    \u001b[1m(\u001b[0mres2\u001b[1m)\u001b[0m: \u001b[1;35mResidual\u001b[0m\u001b[1m(\u001b[0m\u001b[1m)\u001b[0m\n",
       "  \u001b[1m)\u001b[0m\n",
       "\u001b[1m)\u001b[0m"
      ]
     },
     "metadata": {},
     "output_type": "display_data"
    },
    {
     "data": {
      "text/html": [
       "<pre style=\"white-space:pre;overflow-x:auto;line-height:normal;font-family:Menlo,'DejaVu Sans Mono',consolas,'Courier New',monospace\"></pre>\n"
      ],
      "text/plain": []
     },
     "metadata": {},
     "output_type": "display_data"
    },
    {
     "data": {
      "text/plain": [
       "\n",
       "\u001b[1;35mB\u001b[0m\u001b[1m(\u001b[0m\n",
       "  \u001b[1m(\u001b[0mres\u001b[1m)\u001b[0m: \u001b[1;35mStochasticDepthResidual\u001b[0m\u001b[1m(\u001b[0m\u001b[33msurvival_prob\u001b[0m=\u001b[1;36m0\u001b[0m\u001b[1;36m.75\u001b[0m, \u001b[33mdropout_type\u001b[0m=\u001b[32m'neuron'\u001b[0m\u001b[1m)\u001b[0m\n",
       "  \u001b[1m(\u001b[0ma\u001b[1m)\u001b[0m: \u001b[1;35mA\u001b[0m\u001b[1m(\u001b[0m\n",
       "    \u001b[1m(\u001b[0mres1\u001b[1m)\u001b[0m: \u001b[1;35mStochasticDepthResidual\u001b[0m\u001b[1m(\u001b[0m\u001b[33msurvival_prob\u001b[0m=\u001b[1;36m0\u001b[0m\u001b[1;36m.75\u001b[0m, \u001b[33mdropout_type\u001b[0m=\u001b[32m'neuron'\u001b[0m\u001b[1m)\u001b[0m\n",
       "    \u001b[1m(\u001b[0mres2\u001b[1m)\u001b[0m: \u001b[1;35mStochasticDepthResidual\u001b[0m\u001b[1m(\u001b[0m\u001b[33msurvival_prob\u001b[0m=\u001b[1;36m0\u001b[0m\u001b[1;36m.75\u001b[0m, \u001b[33mdropout_type\u001b[0m=\u001b[32m'neuron'\u001b[0m\u001b[1m)\u001b[0m\n",
       "  \u001b[1m)\u001b[0m\n",
       "\u001b[1m)\u001b[0m"
      ]
     },
     "metadata": {},
     "output_type": "display_data"
    }
   ],
   "source": [
    "class A(nn.Module):\n",
    "    def __init__(self):\n",
    "        super().__init__()\n",
    "        self.res1 = Residual()\n",
    "        self.res2 = Residual()\n",
    "\n",
    "\n",
    "class B(nn.Module):\n",
    "    def __init__(self):\n",
    "        super().__init__()\n",
    "        self.res = Residual()\n",
    "        self.a = A()\n",
    "\n",
    "\n",
    "module = B()\n",
    "display(module)\n",
    "module = add_stochastic_depth_dropout(module, 0.75, \"neuron\")\n",
    "display(module)"
   ]
  },
  {
   "cell_type": "markdown",
   "metadata": {},
   "source": [
    "# nbdev"
   ]
  },
  {
   "cell_type": "code",
   "execution_count": null,
   "metadata": {},
   "outputs": [],
   "source": [
    "!nbdev_export"
   ]
  },
  {
   "cell_type": "code",
   "execution_count": null,
   "metadata": {},
   "outputs": [],
   "source": []
  }
 ],
 "metadata": {
  "kernelspec": {
   "display_name": "python3",
   "language": "python",
   "name": "python3"
  }
 },
 "nbformat": 4,
 "nbformat_minor": 2
}
