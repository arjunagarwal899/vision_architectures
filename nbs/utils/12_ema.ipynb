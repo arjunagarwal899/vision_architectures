{
 "cells": [
  {
   "cell_type": "code",
   "execution_count": null,
   "id": "598210bc",
   "metadata": {},
   "outputs": [],
   "source": [
    "# | default_exp utils/ema"
   ]
  },
  {
   "cell_type": "markdown",
   "id": "11d903c3",
   "metadata": {},
   "source": [
    "# Imports"
   ]
  },
  {
   "cell_type": "code",
   "execution_count": null,
   "id": "09510c52",
   "metadata": {},
   "outputs": [],
   "source": [
    "# | export\n",
    "\n",
    "from torch import nn\n",
    "from torch.nn.modules.module import _addindent"
   ]
  },
  {
   "cell_type": "code",
   "execution_count": null,
   "id": "08f83e15",
   "metadata": {},
   "outputs": [],
   "source": [
    "from copy import deepcopy\n",
    "\n",
    "from vision_architectures.schedulers.sigmoid import SigmoidScheduler"
   ]
  },
  {
   "cell_type": "markdown",
   "id": "2f712c50",
   "metadata": {},
   "source": [
    "# Implement the network"
   ]
  },
  {
   "cell_type": "code",
   "execution_count": null,
   "id": "c06c0f26",
   "metadata": {},
   "outputs": [],
   "source": [
    "# | export\n",
    "\n",
    "\n",
    "class EMA(nn.Module):\n",
    "    def __init__(self, model: nn.Module, decay: float | object):\n",
    "        super().__init__()\n",
    "\n",
    "        self.model = model\n",
    "        self.decay = decay\n",
    "\n",
    "    def get_decay(self) -> float:\n",
    "        if isinstance(self.decay, float):\n",
    "            return self.decay\n",
    "        return self.decay.get()\n",
    "\n",
    "    def update_decay(self):\n",
    "        if not isinstance(self.decay, float):\n",
    "            self.decay.step()\n",
    "\n",
    "    def forward(self, weights: nn.Module | dict) -> nn.Module:\n",
    "        # Ensure weights is a state_dict\n",
    "        if isinstance(weights, nn.Module):\n",
    "            weights = weights.state_dict()\n",
    "\n",
    "        # Sanity check\n",
    "        if not set(weights.keys()).issubset(set(self.model.state_dict().keys())):\n",
    "            raise ValueError(\"Weights do not match the EMA model's weights\")\n",
    "\n",
    "        # Get decay value\n",
    "        decay = self.get_decay()\n",
    "\n",
    "        # Perform EMA\n",
    "        for name, param in self.model.named_parameters():\n",
    "            if name not in weights:\n",
    "                continue\n",
    "            param.data = decay * param.data + (1 - decay) * weights[name].data\n",
    "\n",
    "        # Update decay if it's a scheduler\n",
    "        self.update_decay()\n",
    "\n",
    "        return self.model\n",
    "\n",
    "    def __repr__(self):\n",
    "        return (\n",
    "            \"EMA(\\n\" f\"  decay={_addindent(repr(self.decay), 2)}\\n\" f\"  model={_addindent(repr(self.model), 2)}\\n\" \")\"\n",
    "        )"
   ]
  },
  {
   "cell_type": "code",
   "execution_count": null,
   "id": "a6282bb7",
   "metadata": {},
   "outputs": [
    {
     "data": {
      "text/html": [
       "<pre style=\"white-space:pre;overflow-x:auto;line-height:normal;font-family:Menlo,'DejaVu Sans Mono',consolas,'Courier New',monospace\"></pre>\n"
      ],
      "text/plain": []
     },
     "metadata": {},
     "output_type": "display_data"
    },
    {
     "data": {
      "text/plain": [
       "\n",
       "\u001b[1;35mEMA\u001b[0m\u001b[1m(\u001b[0m\n",
       "  \u001b[33mdecay\u001b[0m=\u001b[1;36m0\u001b[0m\u001b[1;36m.9\u001b[0m\n",
       "  \u001b[33mmodel\u001b[0m=\u001b[1;35mSequential\u001b[0m\u001b[1m(\u001b[0m\n",
       "    \u001b[1m(\u001b[0m\u001b[1;36m0\u001b[0m\u001b[1m)\u001b[0m: \u001b[1;35mLinear\u001b[0m\u001b[1m(\u001b[0m\u001b[33min_features\u001b[0m=\u001b[1;36m10\u001b[0m, \u001b[33mout_features\u001b[0m=\u001b[1;36m20\u001b[0m, \u001b[33mbias\u001b[0m=\u001b[3;92mTrue\u001b[0m\u001b[1m)\u001b[0m\n",
       "    \u001b[1m(\u001b[0m\u001b[1;36m1\u001b[0m\u001b[1m)\u001b[0m: \u001b[1;35mReLU\u001b[0m\u001b[1m(\u001b[0m\u001b[1m)\u001b[0m\n",
       "    \u001b[1m(\u001b[0m\u001b[1;36m2\u001b[0m\u001b[1m)\u001b[0m: \u001b[1;35mLinear\u001b[0m\u001b[1m(\u001b[0m\u001b[33min_features\u001b[0m=\u001b[1;36m20\u001b[0m, \u001b[33mout_features\u001b[0m=\u001b[1;36m10\u001b[0m, \u001b[33mbias\u001b[0m=\u001b[3;92mTrue\u001b[0m\u001b[1m)\u001b[0m\n",
       "  \u001b[1m)\u001b[0m\n",
       "\u001b[1m)\u001b[0m"
      ]
     },
     "metadata": {},
     "output_type": "display_data"
    },
    {
     "name": "stdout",
     "output_type": "stream",
     "text": [
      "tensor(1.)\n",
      "tensor(0.9000)\n",
      "tensor(0.8100)\n",
      "tensor(0.7290)\n",
      "tensor(0.6561)\n",
      "tensor(0.5905)\n",
      "tensor(0.5314)\n",
      "tensor(0.4783)\n",
      "tensor(0.4305)\n",
      "tensor(0.3874)\n",
      "tensor(0.3487)\n"
     ]
    }
   ],
   "source": [
    "net1 = nn.Sequential(nn.Linear(10, 20), nn.ReLU(), nn.Linear(20, 10))\n",
    "net2 = deepcopy(net1)\n",
    "[param.data.fill_(1.0) for param in net1.parameters()]\n",
    "[param.data.zero_() for param in net2.parameters()]\n",
    "\n",
    "decay = 0.9\n",
    "\n",
    "test = EMA(net1, decay)\n",
    "display(test)\n",
    "print(net1.state_dict()[\"0.weight\"][0][0])\n",
    "\n",
    "for _ in range(10):\n",
    "    test(net2)\n",
    "    print(net1.state_dict()[\"0.weight\"][0][0])"
   ]
  },
  {
   "cell_type": "code",
   "execution_count": null,
   "id": "60d4a34e",
   "metadata": {},
   "outputs": [
    {
     "data": {
      "text/html": [
       "<pre style=\"white-space:pre;overflow-x:auto;line-height:normal;font-family:Menlo,'DejaVu Sans Mono',consolas,'Courier New',monospace\"></pre>\n"
      ],
      "text/plain": []
     },
     "metadata": {},
     "output_type": "display_data"
    },
    {
     "data": {
      "text/plain": [
       "\n",
       "\u001b[1;35mEMA\u001b[0m\u001b[1m(\u001b[0m\n",
       "  \u001b[33mdecay\u001b[0m=\u001b[1;35mSigmoidScheduler\u001b[0m\u001b[1m(\u001b[0m\n",
       "    \u001b[33mmin_y\u001b[0m=\u001b[1;36m0\u001b[0m\u001b[1;36m.9\u001b[0m\n",
       "    \u001b[33mmax_y\u001b[0m=\u001b[1;36m1\u001b[0m\u001b[1;36m.0\u001b[0m\n",
       "    \u001b[33mmin_x\u001b[0m=\u001b[1;36m-7\u001b[0m\n",
       "    \u001b[33mmax_x\u001b[0m=\u001b[1;36m7\u001b[0m\n",
       "    \u001b[33mnum_steps\u001b[0m=\u001b[1;36m10\u001b[0m\n",
       "  \u001b[1m)\u001b[0m\n",
       "  \u001b[33mmodel\u001b[0m=\u001b[1;35mSequential\u001b[0m\u001b[1m(\u001b[0m\n",
       "    \u001b[1m(\u001b[0m\u001b[1;36m0\u001b[0m\u001b[1m)\u001b[0m: \u001b[1;35mLinear\u001b[0m\u001b[1m(\u001b[0m\u001b[33min_features\u001b[0m=\u001b[1;36m10\u001b[0m, \u001b[33mout_features\u001b[0m=\u001b[1;36m20\u001b[0m, \u001b[33mbias\u001b[0m=\u001b[3;92mTrue\u001b[0m\u001b[1m)\u001b[0m\n",
       "    \u001b[1m(\u001b[0m\u001b[1;36m1\u001b[0m\u001b[1m)\u001b[0m: \u001b[1;35mReLU\u001b[0m\u001b[1m(\u001b[0m\u001b[1m)\u001b[0m\n",
       "    \u001b[1m(\u001b[0m\u001b[1;36m2\u001b[0m\u001b[1m)\u001b[0m: \u001b[1;35mLinear\u001b[0m\u001b[1m(\u001b[0m\u001b[33min_features\u001b[0m=\u001b[1;36m20\u001b[0m, \u001b[33mout_features\u001b[0m=\u001b[1;36m10\u001b[0m, \u001b[33mbias\u001b[0m=\u001b[3;92mTrue\u001b[0m\u001b[1m)\u001b[0m\n",
       "  \u001b[1m)\u001b[0m\n",
       "\u001b[1m)\u001b[0m"
      ]
     },
     "metadata": {},
     "output_type": "display_data"
    },
    {
     "name": "stdout",
     "output_type": "stream",
     "text": [
      "tensor(1.)\n",
      "tensor(0.9001) 0.9003684239899437\n",
      "tensor(0.8104) 0.9014774031693273\n",
      "tensor(0.7306) 0.9057324175898869\n",
      "tensor(0.6617) 0.9197816111441418\n",
      "tensor(0.6086) 0.9500000000000001\n",
      "tensor(0.5782) 0.9802183888558582\n",
      "tensor(0.5668) 0.9942675824101131\n",
      "tensor(0.5635) 0.9985225968306727\n",
      "tensor(0.5627) 0.9996315760100564\n",
      "tensor(0.5625) 0.9999088948805599\n"
     ]
    }
   ],
   "source": [
    "net1 = nn.Sequential(nn.Linear(10, 20), nn.ReLU(), nn.Linear(20, 10))\n",
    "net2 = deepcopy(net1)\n",
    "[param.data.fill_(1.0) for param in net1.parameters()]\n",
    "[param.data.zero_() for param in net2.parameters()]\n",
    "\n",
    "decay = SigmoidScheduler(min_y=0.9)\n",
    "decay.set_num_steps(10)\n",
    "\n",
    "test = EMA(net1, decay)\n",
    "display(test)\n",
    "print(net1.state_dict()[\"0.weight\"][0][0])\n",
    "\n",
    "for _ in range(10):\n",
    "    test(net2)\n",
    "    print(net1.state_dict()[\"0.weight\"][0][0], test.get_decay())"
   ]
  },
  {
   "cell_type": "markdown",
   "id": "e0c72fb5",
   "metadata": {},
   "source": [
    "# nbdev"
   ]
  },
  {
   "cell_type": "code",
   "execution_count": null,
   "id": "df04c2dc",
   "metadata": {},
   "outputs": [],
   "source": [
    "!nbdev_export"
   ]
  },
  {
   "cell_type": "code",
   "execution_count": null,
   "id": "8e91d749",
   "metadata": {},
   "outputs": [],
   "source": []
  }
 ],
 "metadata": {
  "kernelspec": {
   "display_name": "python3",
   "language": "python",
   "name": "python3"
  }
 },
 "nbformat": 4,
 "nbformat_minor": 5
}
