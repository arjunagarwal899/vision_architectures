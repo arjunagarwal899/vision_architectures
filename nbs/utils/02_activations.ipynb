{
 "cells": [
  {
   "cell_type": "code",
   "execution_count": null,
   "metadata": {},
   "outputs": [],
   "source": [
    "# | default_exp utils/activations"
   ]
  },
  {
   "cell_type": "markdown",
   "metadata": {},
   "source": [
    "# Imports"
   ]
  },
  {
   "cell_type": "code",
   "execution_count": null,
   "metadata": {},
   "outputs": [],
   "source": [
    "# | export\n",
    "\n",
    "\n",
    "from collections.abc import Callable\n",
    "\n",
    "from torch import nn"
   ]
  },
  {
   "cell_type": "markdown",
   "metadata": {},
   "source": [
    "# Architecture"
   ]
  },
  {
   "cell_type": "code",
   "execution_count": null,
   "metadata": {},
   "outputs": [],
   "source": [
    "# | export\n",
    "\n",
    "\n",
    "def get_act_layer(activation_name: str | Callable | None, *args, **kwargs):\n",
    "    if activation_name is None:\n",
    "        act_layer = nn.Identity()\n",
    "    elif activation_name == \"relu\":\n",
    "        act_layer = nn.ReLU(*args, **kwargs)\n",
    "    elif activation_name == \"relu6\":\n",
    "        act_layer = nn.ReLU6(*args, **kwargs)\n",
    "    elif activation_name == \"leaky_relu\":\n",
    "        act_layer = nn.LeakyReLU(*args, **kwargs)\n",
    "    elif activation_name == \"sigmoid\":\n",
    "        act_layer = nn.Sigmoid(*args, **kwargs)\n",
    "    elif activation_name == \"tanh\":\n",
    "        act_layer = nn.Tanh(*args, **kwargs)\n",
    "    elif activation_name == \"softmax\":\n",
    "        act_layer = nn.Softmax(*args, **kwargs)\n",
    "    elif activation_name == \"gelu\":\n",
    "        act_layer = nn.GELU(*args, **kwargs)\n",
    "    elif activation_name == \"silu\":\n",
    "        act_layer = nn.SiLU(*args, **kwargs)\n",
    "    elif isinstance(activation_name, Callable):\n",
    "        act_layer = activation_name(*args, **kwargs)\n",
    "    else:\n",
    "        raise ValueError(f\"Activation {activation_name} not implemented\")\n",
    "\n",
    "    return act_layer"
   ]
  },
  {
   "cell_type": "code",
   "execution_count": null,
   "metadata": {},
   "outputs": [
    {
     "data": {
      "text/html": [
       "<pre style=\"white-space:pre;overflow-x:auto;line-height:normal;font-family:Menlo,'DejaVu Sans Mono',consolas,'Courier New',monospace\"></pre>\n"
      ],
      "text/plain": []
     },
     "metadata": {},
     "output_type": "display_data"
    },
    {
     "data": {
      "text/plain": [
       "\u001b[1;35mGELU\u001b[0m\u001b[1m(\u001b[0m\u001b[33mapproximate\u001b[0m=\u001b[32m'none'\u001b[0m\u001b[1m)\u001b[0m"
      ]
     },
     "execution_count": null,
     "metadata": {},
     "output_type": "execute_result"
    }
   ],
   "source": [
    "get_act_layer(\"gelu\")"
   ]
  },
  {
   "cell_type": "markdown",
   "metadata": {},
   "source": [
    "# nbdev_export"
   ]
  },
  {
   "cell_type": "code",
   "execution_count": null,
   "metadata": {},
   "outputs": [],
   "source": [
    "!nbdev_export"
   ]
  },
  {
   "cell_type": "code",
   "execution_count": null,
   "metadata": {},
   "outputs": [],
   "source": []
  }
 ],
 "metadata": {
  "kernelspec": {
   "display_name": "python3",
   "language": "python",
   "name": "python3"
  }
 },
 "nbformat": 4,
 "nbformat_minor": 2
}
