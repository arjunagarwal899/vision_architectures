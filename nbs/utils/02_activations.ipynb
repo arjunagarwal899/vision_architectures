{
 "cells": [
  {
   "cell_type": "code",
   "execution_count": 1,
   "metadata": {},
   "outputs": [],
   "source": [
    "# | default_exp utils/activations"
   ]
  },
  {
   "cell_type": "markdown",
   "metadata": {},
   "source": [
    "# Imports"
   ]
  },
  {
   "cell_type": "code",
   "execution_count": 2,
   "metadata": {},
   "outputs": [],
   "source": [
    "# | export\n",
    "\n",
    "from torch import nn"
   ]
  },
  {
   "cell_type": "markdown",
   "metadata": {},
   "source": [
    "# Architecture"
   ]
  },
  {
   "cell_type": "code",
   "execution_count": 3,
   "metadata": {},
   "outputs": [],
   "source": [
    "# | export\n",
    "\n",
    "\n",
    "def get_act_layer(activation_name: str, *args, **kwargs):\n",
    "    if activation_name == \"relu\":\n",
    "        act_layer = nn.ReLU(*args, **kwargs)\n",
    "    elif activation_name == \"relu6\":\n",
    "        act_layer = nn.ReLU6(*args, **kwargs)\n",
    "    elif activation_name == \"leaky_relu\":\n",
    "        act_layer = nn.LeakyReLU(*args, **kwargs)\n",
    "    elif activation_name == \"sigmoid\":\n",
    "        act_layer = nn.Sigmoid(*args, **kwargs)\n",
    "    elif activation_name == \"tanh\":\n",
    "        act_layer = nn.Tanh(*args, **kwargs)\n",
    "    elif activation_name == \"softmax\":\n",
    "        act_layer = nn.Softmax(*args, **kwargs)\n",
    "    elif activation_name == \"gelu\":\n",
    "        act_layer = nn.GELU(*args, **kwargs)\n",
    "    elif activation_name == \"silu\":\n",
    "        act_layer = nn.SiLU(*args, **kwargs)\n",
    "    else:\n",
    "        raise ValueError(f\"Activation {activation_name} not implemented\")\n",
    "\n",
    "    return act_layer"
   ]
  },
  {
   "cell_type": "code",
   "execution_count": 4,
   "metadata": {},
   "outputs": [
    {
     "data": {
      "text/html": [
       "<pre style=\"white-space:pre;overflow-x:auto;line-height:normal;font-family:Menlo,'DejaVu Sans Mono',consolas,'Courier New',monospace\"></pre>\n"
      ],
      "text/plain": []
     },
     "metadata": {},
     "output_type": "display_data"
    },
    {
     "data": {
      "text/plain": [
       "\u001b[1;35mGELU\u001b[0m\u001b[1m(\u001b[0m\u001b[33mapproximate\u001b[0m=\u001b[32m'none'\u001b[0m\u001b[1m)\u001b[0m"
      ]
     },
     "execution_count": 4,
     "metadata": {},
     "output_type": "execute_result"
    }
   ],
   "source": [
    "get_act_layer(\"gelu\")"
   ]
  },
  {
   "cell_type": "markdown",
   "metadata": {},
   "source": [
    "# nbdev_export"
   ]
  },
  {
   "cell_type": "code",
   "execution_count": 5,
   "metadata": {},
   "outputs": [],
   "source": [
    "!nbdev_export"
   ]
  },
  {
   "cell_type": "code",
   "execution_count": null,
   "metadata": {},
   "outputs": [],
   "source": []
  }
 ],
 "metadata": {
  "kernelspec": {
   "display_name": "base",
   "language": "python",
   "name": "python3"
  },
  "language_info": {
   "codemirror_mode": {
    "name": "ipython",
    "version": 3
   },
   "file_extension": ".py",
   "mimetype": "text/x-python",
   "name": "python",
   "nbconvert_exporter": "python",
   "pygments_lexer": "ipython3",
   "version": "3.9.18"
  }
 },
 "nbformat": 4,
 "nbformat_minor": 2
}
