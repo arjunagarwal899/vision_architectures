{
 "cells": [
  {
   "cell_type": "code",
   "execution_count": null,
   "metadata": {},
   "outputs": [],
   "source": [
    "# | default_exp utils/rearrange"
   ]
  },
  {
   "cell_type": "markdown",
   "metadata": {},
   "source": [
    "# Imports"
   ]
  },
  {
   "cell_type": "code",
   "execution_count": null,
   "metadata": {},
   "outputs": [],
   "source": [
    "# | export\n",
    "\n",
    "\n",
    "import numpy as np\n",
    "import torch\n",
    "from einops import rearrange"
   ]
  },
  {
   "cell_type": "markdown",
   "metadata": {},
   "source": [
    "# Rearranges"
   ]
  },
  {
   "cell_type": "code",
   "execution_count": null,
   "metadata": {},
   "outputs": [],
   "source": [
    "# | export\n",
    "\n",
    "\n",
    "def make_channels_first(x: torch.Tensor | np.ndarray):\n",
    "    \"\"\"Convert an n-dimensional tensor or array to channels first format.\n",
    "\n",
    "    Args:\n",
    "        x: The input tensor / array. Should have at least 3 dimensions.\n",
    "\n",
    "    Returns:\n",
    "        The input tensor / array in channels first format.\n",
    "    \"\"\"\n",
    "    x = rearrange(x, \"b ... d -> b d ...\")\n",
    "    if torch.is_tensor(x):\n",
    "        x = x.contiguous()\n",
    "\n",
    "    return x"
   ]
  },
  {
   "cell_type": "code",
   "execution_count": null,
   "metadata": {},
   "outputs": [
    {
     "name": "stdout",
     "output_type": "stream",
     "text": [
      "(1, 4, 4, 4, 16) (1, 16, 4, 4, 4)\n",
      "(1, 4, 4, 4, 16) (1, 16, 4, 4, 4)\n"
     ]
    }
   ],
   "source": [
    "tests = [\n",
    "    torch.randn(1, 4, 4, 4, 16),\n",
    "    np.random.randn(1, 4, 4, 4, 16),\n",
    "]\n",
    "\n",
    "for input_ in tests:\n",
    "    output_ = make_channels_first(input_)\n",
    "    print(tuple(input_.shape), tuple(output_.shape))"
   ]
  },
  {
   "cell_type": "code",
   "execution_count": null,
   "metadata": {},
   "outputs": [],
   "source": [
    "# | export\n",
    "\n",
    "\n",
    "def make_channels_last(x: torch.Tensor | np.ndarray):\n",
    "    \"\"\"Convert an n-dimensional tensor or array to channels last format.\n",
    "\n",
    "    Args:\n",
    "        x: The input tensor / array. Should have at least 3 dimensions.\n",
    "\n",
    "    Returns:\n",
    "        The input tensor / array in channels last format.\n",
    "    \"\"\"\n",
    "    x = rearrange(x, \"b d ... -> b ... d\")\n",
    "    if torch.is_tensor(x):\n",
    "        x = x.contiguous()\n",
    "\n",
    "    return x"
   ]
  },
  {
   "cell_type": "code",
   "execution_count": null,
   "metadata": {},
   "outputs": [
    {
     "name": "stdout",
     "output_type": "stream",
     "text": [
      "(1, 16, 4, 4, 4) (1, 4, 4, 4, 16)\n",
      "(1, 16, 4, 4, 4) (1, 4, 4, 4, 16)\n"
     ]
    }
   ],
   "source": [
    "tests = [\n",
    "    torch.randn(1, 16, 4, 4, 4),\n",
    "    np.random.randn(1, 16, 4, 4, 4),\n",
    "]\n",
    "\n",
    "for input_ in tests:\n",
    "    output_ = make_channels_last(input_)\n",
    "    print(tuple(input_.shape), tuple(output_.shape))"
   ]
  },
  {
   "cell_type": "markdown",
   "metadata": {},
   "source": [
    "# nbdev"
   ]
  },
  {
   "cell_type": "code",
   "execution_count": null,
   "metadata": {},
   "outputs": [],
   "source": [
    "!nbdev_export"
   ]
  },
  {
   "cell_type": "code",
   "execution_count": null,
   "metadata": {},
   "outputs": [],
   "source": []
  }
 ],
 "metadata": {
  "kernelspec": {
   "display_name": "python3",
   "language": "python",
   "name": "python3"
  }
 },
 "nbformat": 4,
 "nbformat_minor": 2
}
