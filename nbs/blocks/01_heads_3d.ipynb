{
 "cells": [
  {
   "cell_type": "code",
   "execution_count": null,
   "metadata": {},
   "outputs": [],
   "source": [
    "# | default_exp blocks/heads_3d"
   ]
  },
  {
   "cell_type": "markdown",
   "metadata": {},
   "source": [
    "# Imports"
   ]
  },
  {
   "cell_type": "code",
   "execution_count": null,
   "metadata": {},
   "outputs": [],
   "source": [
    "# | export\n",
    "\n",
    "\n",
    "from torch import nn\n",
    "\n",
    "from vision_architectures.utils.activations import get_act_layer"
   ]
  },
  {
   "cell_type": "code",
   "execution_count": null,
   "metadata": {},
   "outputs": [],
   "source": [
    "import torch"
   ]
  },
  {
   "cell_type": "markdown",
   "metadata": {},
   "source": [
    "# Main classes"
   ]
  },
  {
   "cell_type": "code",
   "execution_count": null,
   "metadata": {},
   "outputs": [],
   "source": [
    "# | export\n",
    "\n",
    "\n",
    "class ClassificationHead3D(nn.Sequential):\n",
    "    \"\"\"A general purpose classification head for 3D inputs.\n",
    "\n",
    "    # Inspiration:\n",
    "    https://github.com/qubvel-org/segmentation_models.pytorch/blob/main/segmentation_models_pytorch/base/heads.py\n",
    "    \"\"\"\n",
    "\n",
    "    def __init__(\n",
    "        self, in_channels: int, classes: int, pooling: str = \"avg\", dropout: float = 0.2, activation: str | None = None\n",
    "    ):\n",
    "        \"\"\"Initializes the head.\n",
    "\n",
    "        Args:\n",
    "            in_channels: Number of input channels.\n",
    "            classes: Number of output classes\n",
    "            pooling: Should be one of \"avg\" or \"max\". Defaults to \"avg\".\n",
    "            dropout: Amount of dropout to apply. Defaults to 0.2.\n",
    "            activation: Type of activation to perform. Defaults to None.\n",
    "\n",
    "        Raises:\n",
    "            ValueError: Incorrect pooling type.\n",
    "        \"\"\"\n",
    "        if pooling not in (\"max\", \"avg\"):\n",
    "            raise ValueError(f\"Pooling should be one of ('max', 'avg'), got {pooling}.\")\n",
    "        pool = nn.AdaptiveAvgPool3d(1) if pooling == \"avg\" else nn.AdaptiveMaxPool3d(1)\n",
    "        flatten = nn.Flatten()\n",
    "        dropout = nn.Dropout(p=dropout, inplace=True) if dropout else nn.Identity()\n",
    "        linear = nn.Linear(in_channels, classes, bias=True)\n",
    "        activation = get_act_layer(activation)\n",
    "        super().__init__(pool, flatten, dropout, linear, activation)"
   ]
  },
  {
   "cell_type": "code",
   "execution_count": null,
   "metadata": {},
   "outputs": [
    {
     "data": {
      "text/html": [
       "<pre style=\"white-space:pre;overflow-x:auto;line-height:normal;font-family:Menlo,'DejaVu Sans Mono',consolas,'Courier New',monospace\"></pre>\n"
      ],
      "text/plain": []
     },
     "metadata": {},
     "output_type": "display_data"
    },
    {
     "data": {
      "text/plain": [
       "\u001b[1;35mtorch.Size\u001b[0m\u001b[1m(\u001b[0m\u001b[1m[\u001b[0m\u001b[1;36m5\u001b[0m, \u001b[1;36m3\u001b[0m\u001b[1m]\u001b[0m\u001b[1m)\u001b[0m"
      ]
     },
     "execution_count": null,
     "metadata": {},
     "output_type": "execute_result"
    }
   ],
   "source": [
    "test_model = ClassificationHead3D(32, 3, activation=\"relu\")\n",
    "test_input = torch.randn(5, 32, 8, 8, 8)\n",
    "test_output = test_model(test_input)\n",
    "test_output.shape"
   ]
  },
  {
   "cell_type": "code",
   "execution_count": null,
   "metadata": {},
   "outputs": [],
   "source": [
    "# | export\n",
    "\n",
    "\n",
    "class SegmentationHead3D(nn.Sequential):\n",
    "    \"\"\"A general purpose segmentation head for 3D inputs.\"\n",
    "\n",
    "    Inspiration:\n",
    "    https://github.com/qubvel-org/segmentation_models.pytorch/blob/main/segmentation_models_pytorch/base/heads.py\n",
    "    \"\"\"\n",
    "\n",
    "    def __init__(\n",
    "        self, in_channels: int, out_channels: int, kernel_size: float = 3, activation: str = None, upsampling: float = 1\n",
    "    ):\n",
    "        \"\"\"Initializes the segmentation head\n",
    "\n",
    "        Args:\n",
    "            in_channels: Number of input channels.\n",
    "            out_channels: Number of output channels.\n",
    "            kernel_size: Size of the kernel. Defaults to 3.\n",
    "            activation: Type of activation to perform. Defaults to None.\n",
    "            upsampling: Scale factor. Defaults to 1.\n",
    "        \"\"\"\n",
    "        conv3d = nn.Conv3d(in_channels, out_channels, kernel_size=kernel_size, padding=kernel_size // 2)\n",
    "        upsampling = nn.Upsample(scale_factor=upsampling, mode=\"trilinear\") if upsampling > 1 else nn.Identity()\n",
    "        activation = get_act_layer(activation)\n",
    "        super().__init__(conv3d, upsampling, activation)"
   ]
  },
  {
   "cell_type": "code",
   "execution_count": null,
   "metadata": {},
   "outputs": [
    {
     "data": {
      "text/html": [
       "<pre style=\"white-space:pre;overflow-x:auto;line-height:normal;font-family:Menlo,'DejaVu Sans Mono',consolas,'Courier New',monospace\"></pre>\n"
      ],
      "text/plain": []
     },
     "metadata": {},
     "output_type": "display_data"
    },
    {
     "data": {
      "text/plain": [
       "\u001b[1;35mtorch.Size\u001b[0m\u001b[1m(\u001b[0m\u001b[1m[\u001b[0m\u001b[1;36m5\u001b[0m, \u001b[1;36m3\u001b[0m, \u001b[1;36m8\u001b[0m, \u001b[1;36m8\u001b[0m, \u001b[1;36m8\u001b[0m\u001b[1m]\u001b[0m\u001b[1m)\u001b[0m"
      ]
     },
     "execution_count": null,
     "metadata": {},
     "output_type": "execute_result"
    }
   ],
   "source": [
    "test_model = SegmentationHead3D(32, 3)\n",
    "test_input = torch.randn(5, 32, 8, 8, 8)\n",
    "test_output = test_model(test_input)\n",
    "test_output.shape"
   ]
  },
  {
   "cell_type": "markdown",
   "metadata": {},
   "source": [
    "# nbdev"
   ]
  },
  {
   "cell_type": "code",
   "execution_count": null,
   "metadata": {},
   "outputs": [],
   "source": [
    "!nbdev_export"
   ]
  },
  {
   "cell_type": "code",
   "execution_count": null,
   "metadata": {},
   "outputs": [],
   "source": []
  }
 ],
 "metadata": {
  "kernelspec": {
   "display_name": "python3",
   "language": "python",
   "name": "python3"
  }
 },
 "nbformat": 4,
 "nbformat_minor": 2
}
