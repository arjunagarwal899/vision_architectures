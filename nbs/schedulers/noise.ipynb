{
 "cells": [
  {
   "cell_type": "code",
   "execution_count": null,
   "metadata": {},
   "outputs": [],
   "source": [
    "# | default_exp schedulers/noise"
   ]
  },
  {
   "cell_type": "markdown",
   "metadata": {},
   "source": [
    "# Imports"
   ]
  },
  {
   "cell_type": "code",
   "execution_count": null,
   "metadata": {},
   "outputs": [],
   "source": [
    "# | export\n",
    "\n",
    "\n",
    "import torch\n",
    "from einops import rearrange\n",
    "from torch import nn"
   ]
  },
  {
   "cell_type": "markdown",
   "metadata": {},
   "source": [
    "# Schedulers"
   ]
  },
  {
   "cell_type": "code",
   "execution_count": null,
   "metadata": {},
   "outputs": [],
   "source": [
    "# | export\n",
    "\n",
    "\n",
    "# TODO: Clean and make more usable\n",
    "class GaussianNoiseScheduler(nn.Module):\n",
    "    def __init__(self, betas):\n",
    "        super().__init__()\n",
    "\n",
    "        self.betas = betas\n",
    "        self.alphas = 1.0 - self.betas\n",
    "        self.alphas_cumprod = torch.cumprod(self.alphas, dim=0)\n",
    "        self.sqrt_alphas_cumprod = torch.sqrt(self.alphas_cumprod)\n",
    "        self.sqrt_one_minus_alphas_cumprod = torch.sqrt(1.0 - self.alphas_cumprod)\n",
    "\n",
    "    def add_noise(self, x0_batch, t):\n",
    "        standard_noise = torch.randn(x0_batch.shape, device=x0_batch.device)\n",
    "\n",
    "        sqrt_alphas_cumprod = self.sqrt_alphas_cumprod.to(x0_batch.device)\n",
    "        sqrt_one_minus_alphas_cumprod = self.sqrt_one_minus_alphas_cumprod.to(x0_batch.device)\n",
    "\n",
    "        momentum_term = rearrange(sqrt_alphas_cumprod[t], \"n -> n 1 1 1\") * x0_batch\n",
    "        noise_term = rearrange(sqrt_one_minus_alphas_cumprod[t], \"n -> n 1 1 1\") * standard_noise\n",
    "\n",
    "        return momentum_term + noise_term, standard_noise\n",
    "\n",
    "    def remove_noise(self, xt_batch, pred_batch, t):  # pred_batch is the noise prediction, not the denoised image\n",
    "        x0_batch = (xt_batch - (self.sqrt_one_minus_alphas_cumprod[t] * pred_batch)) / self.sqrt_alphas_cumprod[t]\n",
    "        x0_batch = x0_batch.clamp(-1.0, 1.0)\n",
    "\n",
    "        mean_batch = xt_batch - ((self.betas[t] * pred_batch) / (self.sqrt_one_minus_alphas_cumprod[t])) / torch.sqrt(\n",
    "            self.alphas[t]\n",
    "        )\n",
    "\n",
    "        variance_batch = self.betas[t] * (1.0 - self.alphas_cumprod[t - 1]) / (1.0 - self.alphas_cumprod[t])\n",
    "        sigma_batch = torch.sqrt(variance_batch)\n",
    "        standard_noise = torch.randn(xt_batch.shape, device=xt_batch.device)\n",
    "\n",
    "        # Return only mean when t = 0\n",
    "        sigma_batch[t == 0] = 0\n",
    "\n",
    "        return x0_batch, mean_batch + sigma_batch * standard_noise"
   ]
  },
  {
   "cell_type": "code",
   "execution_count": null,
   "metadata": {},
   "outputs": [],
   "source": [
    "T = 200\n",
    "betas = torch.linspace(0.0001, 0.02, T + 1)\n",
    "scheduler = GaussianNoiseScheduler(betas)\n",
    "\n",
    "x0 = torch.zeros(1, 3, 32, 32)\n",
    "t = torch.tensor([10])\n",
    "xt, noise = scheduler.add_noise(x0, t)\n",
    "\n",
    "x0_hat, xt_minus_1 = scheduler.remove_noise(xt, noise, t)\n",
    "assert torch.allclose(x0, x0_hat)"
   ]
  },
  {
   "cell_type": "markdown",
   "metadata": {},
   "source": [
    "# nbdev"
   ]
  },
  {
   "cell_type": "code",
   "execution_count": null,
   "metadata": {},
   "outputs": [],
   "source": [
    "!nbdev_export"
   ]
  },
  {
   "cell_type": "code",
   "execution_count": null,
   "metadata": {},
   "outputs": [],
   "source": []
  }
 ],
 "metadata": {
  "kernelspec": {
   "display_name": "python3",
   "language": "python",
   "name": "python3"
  }
 },
 "nbformat": 4,
 "nbformat_minor": 2
}
