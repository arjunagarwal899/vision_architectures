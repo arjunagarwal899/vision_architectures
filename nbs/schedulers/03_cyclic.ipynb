{
 "cells": [
  {
   "cell_type": "code",
   "execution_count": null,
   "metadata": {},
   "outputs": [],
   "source": [
    "# | default_exp schedulers/cyclic"
   ]
  },
  {
   "cell_type": "markdown",
   "metadata": {},
   "source": [
    "# Imports"
   ]
  },
  {
   "cell_type": "code",
   "execution_count": null,
   "metadata": {},
   "outputs": [],
   "source": [
    "# | export\n",
    "\n",
    "\n",
    "import math\n",
    "from enum import Enum\n",
    "\n",
    "from torch.optim.lr_scheduler import LRScheduler"
   ]
  },
  {
   "cell_type": "code",
   "execution_count": null,
   "metadata": {},
   "outputs": [],
   "source": [
    "from matplotlib import pyplot as plt\n",
    "from torch import nn\n",
    "from torch.optim import Adam"
   ]
  },
  {
   "cell_type": "markdown",
   "metadata": {},
   "source": [
    "# Scheduler"
   ]
  },
  {
   "cell_type": "markdown",
   "metadata": {},
   "source": [
    "### Sine"
   ]
  },
  {
   "cell_type": "code",
   "execution_count": null,
   "metadata": {},
   "outputs": [],
   "source": [
    "# | export\n",
    "\n",
    "\n",
    "class SineScheduler:\n",
    "    def __init__(self, start_value: float, max_value: float, decay: float = 0.0, wavelength: int | None = None):\n",
    "        assert 0.0 <= decay < 1.0, \"Decay must be between 0 and 1\"\n",
    "\n",
    "        self.start_value = start_value\n",
    "        self.max_value = max_value\n",
    "        self.decay_factor = 1 - decay\n",
    "        self.wavelength = None\n",
    "\n",
    "        self.pseudo_max_value = max_value / (self.decay_factor**0.5)\n",
    "\n",
    "        self.x = 1\n",
    "\n",
    "        if wavelength is not None:\n",
    "            self.set_wavelength(wavelength)\n",
    "\n",
    "    def set_wavelength(self, wavelength: int):\n",
    "        assert wavelength > 0, \"Wavelength must be greater than 0\"\n",
    "        self.wavelength = wavelength\n",
    "        return self  # to allow chaining\n",
    "\n",
    "    def is_ready(self):\n",
    "        return self.wavelength is not None\n",
    "\n",
    "    def get(self):\n",
    "        if not self.is_ready():\n",
    "            raise ValueError(\"Call set_wavelength first\")\n",
    "\n",
    "        # Calculate angle based on current step and wavelength and get sine value\n",
    "        angle = (-0.5 + 2 * self.x / self.wavelength) * math.pi\n",
    "        sine = math.sin(angle)\n",
    "\n",
    "        # Scale it to the range of pseudo_max_lr and max_lr\n",
    "        scaled = (self.pseudo_max_value - self.start_value) * (1 + sine) / 2\n",
    "\n",
    "        # Apply decay to it\n",
    "        decayed = scaled * self.decay_factor ** ((self.x + 1) / self.wavelength)\n",
    "\n",
    "        # Increase it by the start_lr\n",
    "        y = decayed + self.start_value\n",
    "\n",
    "        return y\n",
    "\n",
    "    def step(self):\n",
    "        if not self.is_ready():\n",
    "            raise ValueError(\"Call set_wavelength first\")\n",
    "        self.x = self.x + 1\n",
    "\n",
    "    def __repr__(self):\n",
    "        _repr = (\n",
    "            \"SineScheduler(\\n\"\n",
    "            f\"  start_value={self.start_value},\\n\"\n",
    "            f\"  max_value={self.max_value},\\n\"\n",
    "            f\"  decay={self.decay},\\n\"\n",
    "        )\n",
    "        if self.wavelength is not None:\n",
    "            _repr += f\"  wavelength={self.wavelength}\\n\"\n",
    "        _repr += \")\"\n",
    "\n",
    "        return _repr"
   ]
  },
  {
   "cell_type": "code",
   "execution_count": null,
   "metadata": {},
   "outputs": [
    {
     "name": "stdout",
     "output_type": "stream",
     "text": [
      "Value: 0.4349480324496454\n",
      "Value: 0.7184766378640389\n",
      "Value: 0.4533281114977514\n",
      "Value: 0.10925400611220523\n",
      "Value: 0.0\n",
      "Value: 0.043494803244964526\n",
      "Value: 0.07184766378640382\n",
      "Value: 0.04533281114977513\n",
      "Value: 0.010925400611220529\n",
      "Value: 0.0\n",
      "Value: 0.004349480324496461\n",
      "Value: 0.007184766378640381\n",
      "Value: 0.0045332811149775155\n",
      "Value: 0.001092540061122056\n",
      "Value: 0.0\n"
     ]
    }
   ],
   "source": [
    "scheduler = SineScheduler(0, 1, 0.9).set_wavelength(5)\n",
    "\n",
    "for _ in range(15):\n",
    "    print(f\"Value: {scheduler.get()}\")\n",
    "    scheduler.step()"
   ]
  },
  {
   "cell_type": "code",
   "execution_count": null,
   "metadata": {},
   "outputs": [
    {
     "name": "stdout",
     "output_type": "stream",
     "text": [
      "Value: 0.04951556604879043\n",
      "Value: 0.18825509907063326\n",
      "Value: 0.3887395330218428\n",
      "Value: 0.6112604669781572\n",
      "Value: 0.8117449009293667\n",
      "Value: 0.9504844339512095\n",
      "Value: 1.0\n",
      "Value: 0.9504844339512095\n",
      "Value: 0.8117449009293667\n",
      "Value: 0.6112604669781573\n",
      "Value: 0.38873953302184283\n",
      "Value: 0.18825509907063348\n",
      "Value: 0.04951556604879048\n",
      "Value: 0.0\n",
      "Value: 0.04951556604879037\n"
     ]
    }
   ],
   "source": [
    "scheduler = SineScheduler(0, 1, 0).set_wavelength(14)\n",
    "\n",
    "for _ in range(15):\n",
    "    print(f\"Value: {scheduler.get()}\")\n",
    "    scheduler.step()"
   ]
  },
  {
   "cell_type": "code",
   "execution_count": null,
   "metadata": {},
   "outputs": [],
   "source": [
    "# | export\n",
    "\n",
    "\n",
    "class SineLR(LRScheduler):\n",
    "    def __init__(self, optimizer, start_lr, max_lr, wavelength, decay, last_epoch=-1, verbose=\"deprecated\"):\n",
    "        self.scheduler = SineScheduler(start_lr, max_lr, decay).set_wavelength(wavelength)\n",
    "        self.scheduler.x -= 1  # To match the output of the non-LR scheduler\n",
    "        super().__init__(optimizer, last_epoch, verbose)\n",
    "\n",
    "    def get_lr(self):\n",
    "        lr = self.scheduler.get()\n",
    "        return [lr for _ in self.optimizer.param_groups]\n",
    "\n",
    "    def step(self, epoch=None):\n",
    "        self.scheduler.step()\n",
    "        return super().step(epoch)"
   ]
  },
  {
   "cell_type": "code",
   "execution_count": null,
   "metadata": {},
   "outputs": [
    {
     "name": "stdout",
     "output_type": "stream",
     "text": [
      "Value: [0.4349480324496454]\n",
      "Value: [0.7184766378640389]\n",
      "Value: [0.4533281114977514]\n",
      "Value: [0.10925400611220523]\n",
      "Value: [0.0]\n",
      "Value: [0.043494803244964526]\n",
      "Value: [0.07184766378640382]\n",
      "Value: [0.04533281114977513]\n",
      "Value: [0.010925400611220529]\n",
      "Value: [0.0]\n",
      "Value: [0.004349480324496461]\n",
      "Value: [0.007184766378640381]\n",
      "Value: [0.0045332811149775155]\n",
      "Value: [0.001092540061122056]\n",
      "Value: [0.0]\n"
     ]
    },
    {
     "name": "stderr",
     "output_type": "stream",
     "text": [
      "/home/users/arjun.agarwal/miniforge3/envs/env/lib/python3.11/site-packages/torch/optim/lr_scheduler.py:227: UserWarning: Detected call of `lr_scheduler.step()` before `optimizer.step()`. In PyTorch 1.1.0 and later, you should call them in the opposite order: `optimizer.step()` before `lr_scheduler.step()`.  Failure to do this will result in PyTorch skipping the first value of the learning rate schedule. See more details at https://pytorch.org/docs/stable/optim.html#how-to-adjust-learning-rate\n",
      "  warnings.warn(\n"
     ]
    }
   ],
   "source": [
    "optimizer = Adam([nn.Parameter()])\n",
    "scheduler = SineLR(optimizer, 0, 1, 5, 0.9)\n",
    "\n",
    "for _ in range(15):\n",
    "    print(f\"Value: {scheduler.get_lr()}\")\n",
    "    scheduler.step()"
   ]
  },
  {
   "cell_type": "markdown",
   "metadata": {},
   "source": [
    "### Cyclic annealing"
   ]
  },
  {
   "cell_type": "code",
   "execution_count": null,
   "metadata": {},
   "outputs": [],
   "source": [
    "# | export\n",
    "\n",
    "\n",
    "class Phase(Enum):\n",
    "    UP = 1\n",
    "    TOP = 2\n",
    "    DOWN = 3\n",
    "    BOTTOM = 4\n",
    "\n",
    "\n",
    "class CyclicAnnealingScheduler:\n",
    "    \"\"\"Cyclic Annealing Schedule, inspired by the paper `Cyclical Annealing Schedule: A Simple Approach to Mitigating KL\n",
    "    Vanishing <https://arxiv.org/pdf/1903.10145v3>`_.\n",
    "    \"\"\"\n",
    "\n",
    "    NOT_READY_ERROR_MSG = \"Number of steps for each phase must be set before using the scheduler\"\n",
    "\n",
    "    def __init__(\n",
    "        self,\n",
    "        start_value: float,\n",
    "        max_value: float,\n",
    "        up_annealing_steps: int | None = None,\n",
    "        top_fixed_steps: int | None = None,\n",
    "        down_annealing_steps: int | None = None,\n",
    "        bottom_fixed_steps: int | None = None,\n",
    "    ):\n",
    "        self.start_value = start_value\n",
    "        self.max_value = max_value\n",
    "\n",
    "        self.num_annealing_steps = {\n",
    "            \"up\": None,\n",
    "            \"top\": None,\n",
    "            \"down\": None,\n",
    "            \"bottom\": None,\n",
    "        }\n",
    "\n",
    "        self.phase = None\n",
    "        self.x = 0\n",
    "\n",
    "        self.set_num_annealing_steps(up_annealing_steps, top_fixed_steps, down_annealing_steps, bottom_fixed_steps)\n",
    "\n",
    "    def set_num_annealing_steps(\n",
    "        self,\n",
    "        up_annealing_steps: int | None = None,\n",
    "        top_annealing_steps: int | None = None,\n",
    "        down_annealing_steps: int | None = None,\n",
    "        bottom_annealing_steps: int | None = None,\n",
    "    ):\n",
    "        if up_annealing_steps is not None:\n",
    "            assert up_annealing_steps >= 0, \"Up annealing steps must >= 0\"\n",
    "            self.num_annealing_steps[\"up\"] = up_annealing_steps\n",
    "        if top_annealing_steps is not None:\n",
    "            assert top_annealing_steps >= 0, \"Top fixed steps must >= 0\"\n",
    "            self.num_annealing_steps[\"top\"] = top_annealing_steps\n",
    "        if down_annealing_steps is not None:\n",
    "            assert down_annealing_steps >= 0, \"Down annealing steps must >= 0\"\n",
    "            self.num_annealing_steps[\"down\"] = down_annealing_steps\n",
    "        if bottom_annealing_steps is not None:\n",
    "            assert bottom_annealing_steps >= 0, \"Bottom fixed steps must >= 0\"\n",
    "            self.num_annealing_steps[\"bottom\"] = bottom_annealing_steps\n",
    "\n",
    "        if self.is_ready():\n",
    "            self.set_next_phase()\n",
    "\n",
    "        return self\n",
    "\n",
    "    def set_next_phase(self):\n",
    "        if self.phase is None:\n",
    "            self.phase = Phase.BOTTOM\n",
    "\n",
    "        while True:  # Keep updating the phase till that phase has annealing steps > 0\n",
    "            if self.phase == Phase.UP:\n",
    "                self.phase = Phase.TOP\n",
    "            elif self.phase == Phase.TOP:\n",
    "                self.phase = Phase.DOWN\n",
    "            elif self.phase == Phase.DOWN:\n",
    "                self.phase = Phase.BOTTOM\n",
    "            elif self.phase == Phase.BOTTOM:\n",
    "                self.phase = Phase.UP\n",
    "\n",
    "            if self.num_annealing_steps[self.phase.name.lower()] > 0:\n",
    "                break\n",
    "\n",
    "    def is_ready(self):\n",
    "        if (\n",
    "            self.num_annealing_steps[\"up\"] is None\n",
    "            or self.num_annealing_steps[\"top\"] is None\n",
    "            or self.num_annealing_steps[\"down\"] is None\n",
    "            or self.num_annealing_steps[\"bottom\"] is None\n",
    "        ):\n",
    "            return False\n",
    "\n",
    "        if (\n",
    "            self.num_annealing_steps[\"up\"] == 0\n",
    "            and self.num_annealing_steps[\"top\"] == 0\n",
    "            and self.num_annealing_steps[\"down\"] == 0\n",
    "            and self.num_annealing_steps[\"bottom\"] == 0\n",
    "        ):\n",
    "            return False\n",
    "\n",
    "        return True\n",
    "\n",
    "    def get(self):\n",
    "        if not self.is_ready():\n",
    "            raise ValueError(self.NOT_READY_ERROR_MSG)\n",
    "\n",
    "        if self.phase == Phase.UP:\n",
    "            y = self.start_value + (self.max_value - self.start_value) * (self.x / self.num_annealing_steps[\"up\"])\n",
    "        elif self.phase == Phase.TOP:\n",
    "            y = self.max_value\n",
    "        elif self.phase == Phase.DOWN:\n",
    "            y = self.max_value - (self.max_value - self.start_value) * (self.x / self.num_annealing_steps[\"down\"])\n",
    "        elif self.phase == Phase.BOTTOM:\n",
    "            y = self.start_value\n",
    "\n",
    "        return y\n",
    "\n",
    "    def step(self):\n",
    "        if not self.is_ready():\n",
    "            raise ValueError(self.NOT_READY_ERROR_MSG)\n",
    "\n",
    "        self.x = self.x + 1\n",
    "        if self.x >= self.num_annealing_steps[self.phase.name.lower()]:\n",
    "            self.x = 0\n",
    "            self.set_next_phase()\n",
    "\n",
    "    def __repr__(self):\n",
    "        _repr = (\n",
    "            \"CyclicAnnealingScheduler(\\n\"\n",
    "            f\"  start_value={self.start_value},\\n\"\n",
    "            f\"  max_value={self.max_value},\\n\"\n",
    "            f\"  up_annealing_steps={self.num_annealing_steps['up']},\\n\"\n",
    "            f\"  top_fixed_steps={self.num_annealing_steps['top']},\\n\"\n",
    "            f\"  down_annealing_steps={self.num_annealing_steps['down']},\\n\"\n",
    "            f\"  bottom_fixed_steps={self.num_annealing_steps['bottom']},\\n\"\n",
    "            \")\"\n",
    "        )\n",
    "\n",
    "        return _repr"
   ]
  },
  {
   "cell_type": "code",
   "execution_count": null,
   "metadata": {},
   "outputs": [
    {
     "data": {
      "text/html": [
       "<pre style=\"white-space:pre;overflow-x:auto;line-height:normal;font-family:Menlo,'DejaVu Sans Mono',consolas,'Courier New',monospace\"></pre>\n"
      ],
      "text/plain": []
     },
     "metadata": {},
     "output_type": "display_data"
    },
    {
     "data": {
      "image/png": "[encoded data removed]",
      "text/plain": [
       "\u001b[1m<\u001b[0m\u001b[1;95mFigure\u001b[0m\u001b[39m size 64\u001b[0m\u001b[1;36m0x480\u001b[0m\u001b[39m with \u001b[0m\u001b[1;36m1\u001b[0m\u001b[39m Axes\u001b[0m\u001b[1m>\u001b[0m"
      ]
     },
     "metadata": {},
     "output_type": "display_data"
    }
   ],
   "source": [
    "scheduler = CyclicAnnealingScheduler(0, 1, 10, 10, 10, 10)\n",
    "\n",
    "values = []\n",
    "for _ in range(50):\n",
    "    value = scheduler.get()\n",
    "    values.append(value)\n",
    "    scheduler.step()\n",
    "\n",
    "plt.plot(values)\n",
    "plt.grid()\n",
    "plt.show()"
   ]
  },
  {
   "cell_type": "code",
   "execution_count": null,
   "metadata": {},
   "outputs": [
    {
     "data": {
      "text/html": [
       "<pre style=\"white-space:pre;overflow-x:auto;line-height:normal;font-family:Menlo,'DejaVu Sans Mono',consolas,'Courier New',monospace\"></pre>\n"
      ],
      "text/plain": []
     },
     "metadata": {},
     "output_type": "display_data"
    },
    {
     "data": {
      "image/png": "[encoded data removed]",
      "text/plain": [
       "\u001b[1m<\u001b[0m\u001b[1;95mFigure\u001b[0m\u001b[39m size 64\u001b[0m\u001b[1;36m0x480\u001b[0m\u001b[39m with \u001b[0m\u001b[1;36m1\u001b[0m\u001b[39m Axes\u001b[0m\u001b[1m>\u001b[0m"
      ]
     },
     "metadata": {},
     "output_type": "display_data"
    }
   ],
   "source": [
    "scheduler = CyclicAnnealingScheduler(0, 1, 10, 10, 0, 0)\n",
    "\n",
    "values = []\n",
    "for _ in range(50):\n",
    "    value = scheduler.get()\n",
    "    values.append(value)\n",
    "    scheduler.step()\n",
    "\n",
    "plt.plot(values)\n",
    "plt.grid()\n",
    "plt.show()"
   ]
  },
  {
   "cell_type": "code",
   "execution_count": null,
   "metadata": {},
   "outputs": [
    {
     "data": {
      "text/html": [
       "<pre style=\"white-space:pre;overflow-x:auto;line-height:normal;font-family:Menlo,'DejaVu Sans Mono',consolas,'Courier New',monospace\"></pre>\n"
      ],
      "text/plain": []
     },
     "metadata": {},
     "output_type": "display_data"
    },
    {
     "data": {
      "image/png": "[encoded data removed]",
      "text/plain": [
       "\u001b[1m<\u001b[0m\u001b[1;95mFigure\u001b[0m\u001b[39m size 64\u001b[0m\u001b[1;36m0x480\u001b[0m\u001b[39m with \u001b[0m\u001b[1;36m1\u001b[0m\u001b[39m Axes\u001b[0m\u001b[1m>\u001b[0m"
      ]
     },
     "metadata": {},
     "output_type": "display_data"
    }
   ],
   "source": [
    "scheduler = CyclicAnnealingScheduler(0, 1, 0, 5, 0, 5)\n",
    "\n",
    "values = []\n",
    "for _ in range(50):\n",
    "    value = scheduler.get()\n",
    "    values.append(value)\n",
    "    scheduler.step()\n",
    "\n",
    "plt.plot(values)\n",
    "plt.grid()\n",
    "plt.show()"
   ]
  },
  {
   "cell_type": "code",
   "execution_count": null,
   "metadata": {},
   "outputs": [],
   "source": [
    "# | export\n",
    "\n",
    "\n",
    "class CyclicAnnealingLR(LRScheduler):\n",
    "    def __init__(\n",
    "        self,\n",
    "        optimizer,\n",
    "        start_lr,\n",
    "        max_lr,\n",
    "        up_annealing_steps: int,\n",
    "        top_fixed_steps: int,\n",
    "        down_annealing_steps: int,\n",
    "        bottom_fixed_steps: int,\n",
    "        last_epoch=-1,\n",
    "        verbose=\"deprecated\",\n",
    "    ):\n",
    "        self.scheduler = CyclicAnnealingScheduler(\n",
    "            start_lr, max_lr, up_annealing_steps, top_fixed_steps, down_annealing_steps, bottom_fixed_steps\n",
    "        )\n",
    "        self.scheduler.x -= 1  # To match the output of the non-LR scheduler\n",
    "        super().__init__(optimizer, last_epoch, verbose)\n",
    "\n",
    "    def get_lr(self):\n",
    "        lr = self.scheduler.get()\n",
    "        return [lr for _ in self.optimizer.param_groups]\n",
    "\n",
    "    def step(self, epoch=None):\n",
    "        self.scheduler.step()\n",
    "        return super().step(epoch)"
   ]
  },
  {
   "cell_type": "code",
   "execution_count": null,
   "metadata": {},
   "outputs": [
    {
     "name": "stdout",
     "output_type": "stream",
     "text": [
      "Value: [0.0]\n",
      "Value: [0.2]\n",
      "Value: [0.4]\n",
      "Value: [0.6]\n",
      "Value: [0.8]\n",
      "Value: [1]\n",
      "Value: [1]\n",
      "Value: [1]\n",
      "Value: [1]\n",
      "Value: [1]\n",
      "Value: [1.0]\n",
      "Value: [0.8]\n",
      "Value: [0.6]\n",
      "Value: [0.4]\n",
      "Value: [0.19999999999999996]\n",
      "Value: [0]\n",
      "Value: [0]\n",
      "Value: [0]\n",
      "Value: [0]\n",
      "Value: [0]\n"
     ]
    }
   ],
   "source": [
    "optimizer = Adam([nn.Parameter()])\n",
    "scheduler = CyclicAnnealingLR(optimizer, 0, 1, 5, 5, 5, 5)\n",
    "\n",
    "for _ in range(20):\n",
    "    print(f\"Value: {scheduler.get_lr()}\")\n",
    "    scheduler.step()"
   ]
  },
  {
   "cell_type": "markdown",
   "metadata": {},
   "source": [
    "# nbdev"
   ]
  },
  {
   "cell_type": "code",
   "execution_count": null,
   "metadata": {},
   "outputs": [],
   "source": [
    "!nbdev_export"
   ]
  },
  {
   "cell_type": "code",
   "execution_count": null,
   "metadata": {},
   "outputs": [],
   "source": []
  }
 ],
 "metadata": {
  "kernelspec": {
   "display_name": "python3",
   "language": "python",
   "name": "python3"
  }
 },
 "nbformat": 4,
 "nbformat_minor": 2
}
