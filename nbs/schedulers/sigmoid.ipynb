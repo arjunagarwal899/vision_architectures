{
 "cells": [
  {
   "cell_type": "code",
   "execution_count": null,
   "metadata": {},
   "outputs": [],
   "source": [
    "# | default_exp schedulers/sigmoid"
   ]
  },
  {
   "cell_type": "markdown",
   "metadata": {},
   "source": [
    "# Imports"
   ]
  },
  {
   "cell_type": "code",
   "execution_count": null,
   "metadata": {},
   "outputs": [],
   "source": [
    "# | export\n",
    "\n",
    "\n",
    "import math"
   ]
  },
  {
   "cell_type": "markdown",
   "metadata": {},
   "source": [
    "# Scheduler"
   ]
  },
  {
   "cell_type": "code",
   "execution_count": null,
   "metadata": {},
   "outputs": [],
   "source": [
    "# | export\n",
    "\n",
    "\n",
    "class SigmoidScheduler:\n",
    "    def __init__(self, min_y=0.0, max_y=1.0, min_x=-7, max_x=7):\n",
    "        assert min_x < max_x, \"min_x must be less than max_x\"\n",
    "        assert min_y < max_y, \"min_y must be less than max_y\"\n",
    "\n",
    "        self.min_y = min_y\n",
    "        self.max_y = max_y\n",
    "        self.min_x = min_x\n",
    "        self.max_x = max_x\n",
    "        self.num_steps = ...\n",
    "        self.x_step_size = ...\n",
    "\n",
    "        self.x = min_x\n",
    "\n",
    "    @staticmethod\n",
    "    def _sigmoid(x):\n",
    "        return 1 / (1 + math.exp(-x))\n",
    "\n",
    "    def set_num_steps(self, num_steps):\n",
    "        if self.num_steps == ...:\n",
    "            self.num_steps = num_steps\n",
    "            self.x_step_size = (self.max_x - self.min_x) / self.num_steps\n",
    "\n",
    "    def is_ready(self):\n",
    "        return self.num_steps != ...\n",
    "\n",
    "    def is_completed(self):\n",
    "        return self.x >= self.max_x\n",
    "\n",
    "    def get(self):\n",
    "        if not self.is_ready():\n",
    "            raise ValueError(\"Call set_num_steps first\")\n",
    "        y = self._sigmoid(self.x)\n",
    "        scaled_y = self._scale(y)\n",
    "        return scaled_y\n",
    "\n",
    "    def step(self):\n",
    "        if not self.is_ready():\n",
    "            raise ValueError(\"Call set_num_steps first\")\n",
    "        if self.is_completed():\n",
    "            return\n",
    "        self.x = self.x + self.x_step_size\n",
    "\n",
    "    def _scale(self, y):\n",
    "        scaled_y = self.min_y + y * (self.max_y - self.min_y)\n",
    "        return scaled_y"
   ]
  },
  {
   "cell_type": "code",
   "execution_count": null,
   "metadata": {},
   "outputs": [
    {
     "name": "stdout",
     "output_type": "stream",
     "text": [
      "Is ready: False\n",
      "Is ready: True\n",
      "Value: 0.0009110511944006454\tIs completed: False\n",
      "Value: 0.003684239899435989\tIs completed: False\n",
      "Value: 0.014774031693273067\tIs completed: False\n",
      "Value: 0.057324175898868776\tIs completed: False\n",
      "Value: 0.19781611144141834\tIs completed: False\n",
      "Value: 0.5000000000000001\tIs completed: False\n",
      "Value: 0.8021838885585818\tIs completed: False\n",
      "Value: 0.9426758241011313\tIs completed: False\n",
      "Value: 0.9852259683067269\tIs completed: False\n",
      "Value: 0.9963157601005641\tIs completed: False\n",
      "Value: 0.9990889488055994\tIs completed: True\n",
      "Value: 0.9990889488055994\tIs completed: True\n"
     ]
    }
   ],
   "source": [
    "scheduler = SigmoidScheduler()\n",
    "print(f\"Is ready: {scheduler.is_ready()}\")\n",
    "scheduler.set_num_steps(10)\n",
    "print(f\"Is ready: {scheduler.is_ready()}\")\n",
    "\n",
    "for _ in range(12):\n",
    "    print(f\"Value: {scheduler.get()}\\tIs completed: {scheduler.is_completed()}\")\n",
    "    scheduler.step()"
   ]
  },
  {
   "cell_type": "markdown",
   "metadata": {},
   "source": [
    "# nbdev"
   ]
  },
  {
   "cell_type": "code",
   "execution_count": null,
   "metadata": {},
   "outputs": [],
   "source": [
    "!nbdev_export"
   ]
  },
  {
   "cell_type": "code",
   "execution_count": null,
   "metadata": {},
   "outputs": [],
   "source": []
  }
 ],
 "metadata": {
  "kernelspec": {
   "display_name": "python3",
   "language": "python",
   "name": "python3"
  }
 },
 "nbformat": 4,
 "nbformat_minor": 2
}
