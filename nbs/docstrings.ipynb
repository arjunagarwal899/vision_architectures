{
 "cells": [
  {
   "cell_type": "code",
   "execution_count": null,
   "metadata": {},
   "outputs": [],
   "source": [
    "# | default_exp docstrings"
   ]
  },
  {
   "cell_type": "code",
   "execution_count": null,
   "metadata": {},
   "outputs": [],
   "source": [
    "# | export\n",
    "\n",
    "\n",
    "CHANNELS_FIRST_DOC = \"\"\"Whether the inputs are in channels first format (B, C, ...) or not (B, ..., C).\"\"\""
   ]
  },
  {
   "cell_type": "code",
   "execution_count": null,
   "metadata": {},
   "outputs": [],
   "source": [
    "# | export\n",
    "\n",
    "\n",
    "def populate_docstring(*args, **kwargs):\n",
    "    kwargs = {k: v for k, v in globals().items() if k.endswith(\"_DOC\")} | kwargs\n",
    "\n",
    "    def decorator(func):\n",
    "        if func.__doc__:  # Ensure docstring exists\n",
    "            func.__doc__ = func.__doc__.format(**kwargs)\n",
    "        return func\n",
    "\n",
    "    if len(args) > 1:\n",
    "        raise ValueError(\"Please provide custom docstrings as keywords.\")\n",
    "\n",
    "    if len(args) == 1 and callable(args[0]):  # if used as @populate_docstring\n",
    "        return decorator(args[0])\n",
    "\n",
    "    return decorator  # if used as @populate_docstring(...)"
   ]
  },
  {
   "cell_type": "code",
   "execution_count": null,
   "metadata": {},
   "outputs": [
    {
     "name": "stdout",
     "output_type": "stream",
     "text": [
      "Help on function temp in module __main__:\n",
      "\n",
      "temp(channels_first: bool = True)\n",
      "    Summary\n",
      "    \n",
      "    Args:\n",
      "        channels_first: Whether the inputs are in channels first format (B, C, ...) or not (B, ..., C).. Defaults to True.\n",
      "\n"
     ]
    }
   ],
   "source": [
    "@populate_docstring\n",
    "def temp(channels_first: bool = True):\n",
    "    \"\"\"Summary\n",
    "\n",
    "    Args:\n",
    "        channels_first: {CHANNELS_FIRST_DOC}. Defaults to True.\n",
    "    \"\"\"\n",
    "\n",
    "\n",
    "help(temp)"
   ]
  },
  {
   "cell_type": "code",
   "execution_count": null,
   "metadata": {},
   "outputs": [
    {
     "name": "stdout",
     "output_type": "stream",
     "text": [
      "Help on function temp in module __main__:\n",
      "\n",
      "temp(channels_first: bool = True)\n",
      "    Summary\n",
      "    \n",
      "    Args:\n",
      "        channels_first: Whether the inputs are in channels first format (B, C, ...) or not (B, ..., C).. Defaults to True.\n",
      "\n"
     ]
    }
   ],
   "source": [
    "@populate_docstring()\n",
    "def temp(channels_first: bool = True):\n",
    "    \"\"\"Summary\n",
    "\n",
    "    Args:\n",
    "        channels_first: {CHANNELS_FIRST_DOC}. Defaults to True.\n",
    "    \"\"\"\n",
    "\n",
    "\n",
    "help(temp)"
   ]
  },
  {
   "cell_type": "markdown",
   "metadata": {},
   "source": [
    "# nbdev"
   ]
  },
  {
   "cell_type": "code",
   "execution_count": null,
   "metadata": {},
   "outputs": [],
   "source": [
    "!nbdev_export"
   ]
  },
  {
   "cell_type": "code",
   "execution_count": null,
   "metadata": {},
   "outputs": [],
   "source": []
  }
 ],
 "metadata": {
  "kernelspec": {
   "display_name": "python3",
   "language": "python",
   "name": "python3"
  }
 },
 "nbformat": 4,
 "nbformat_minor": 2
}
