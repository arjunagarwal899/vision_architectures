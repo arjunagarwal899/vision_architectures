{
 "cells": [
  {
   "cell_type": "code",
   "execution_count": null,
   "metadata": {},
   "outputs": [],
   "source": [
    "# | default_exp docstrings"
   ]
  },
  {
   "cell_type": "code",
   "execution_count": null,
   "metadata": {},
   "outputs": [],
   "source": [
    "# | export\n",
    "\n",
    "\n",
    "CHANNELS_FIRST_DOC = \"Whether the inputs are in channels first format `(B, C, ...)` or not `(B, ..., C)`.\"\n",
    "CONFIG_INSTANCE_DOC = (\n",
    "    \"An instance of the Config class that contains all the configuration parameters. It can also be passed as \"\n",
    "    \"a dictionary and the instance will be created automatically.\"\n",
    ")\n",
    "CONFIG_KWARGS_DOC = \"Additional keyword arguments for configuration.\"\n",
    "CHECKPOINTING_LEVEL_DOC = (\n",
    "    \"The level of checkpointing to use for activation checkpointing. Refer to \"\n",
    "    \":py:class:`~vision_architectures.utils.activation_checkpointing.ActivationCheckpointing` for more details.\"\n",
    ")\n",
    "INPUT_1D_DOC = \"Tensor of shape `(B, T, C)` representing the input features.\"\n",
    "INPUT_3D_DOC = \"Tensor of shape `(B, C, Z, Y, X)` or `(B, Z, Y, X, C)` representing the input features.\"\n",
    "OUTPUT_1D_DOC = \"Tensor of shape `(B, T, C)` representing the output features.\"\n",
    "OUTPUT_3D_DOC = \"Tensor of shape `(B, C, Z, Y, X)` or `(B, Z, Y, X, C)` representing the output features.\"\n",
    "RELATIVE_POSITION_BIAS_DOC = \"Relative position embeddings for the attention mechanism.\"\n",
    "LOGIT_SCALE_DOC = \"Optional scaling factor for the attention logits.\"\n",
    "CLASS_DESCRIPTION_1D_DOC = \"This class is designed for 1D input eg. language, etc.\"\n",
    "CLASS_DESCRIPTION_2D_DOC = \"This class is designed for 2D input eg. natural images etc.\"\n",
    "CLASS_DESCRIPTION_3D_DOC = \"This class is designed for 3D input eg. medical images, videos etc.\""
   ]
  },
  {
   "cell_type": "code",
   "execution_count": null,
   "metadata": {},
   "outputs": [],
   "source": [
    "# | export\n",
    "\n",
    "\n",
    "def populate_docstring(*args, **kwargs):\n",
    "    kwargs = {k: v for k, v in globals().items() if k.endswith(\"_DOC\")} | kwargs\n",
    "\n",
    "    def decorator(func):\n",
    "        if func.__doc__:  # Ensure docstring exists\n",
    "            func.__doc__ = func.__doc__.format(**kwargs)\n",
    "        return func\n",
    "\n",
    "    if len(args) > 1:\n",
    "        raise ValueError(\"Please provide custom docstrings as keyword arguments.\")\n",
    "\n",
    "    if len(args) == 1 and callable(args[0]):  # if used as @populate_docstring\n",
    "        return decorator(args[0])\n",
    "\n",
    "    return decorator  # if used as @populate_docstring(...)"
   ]
  },
  {
   "cell_type": "code",
   "execution_count": null,
   "metadata": {},
   "outputs": [
    {
     "name": "stdout",
     "output_type": "stream",
     "text": [
      "Help on function temp in module __main__:\n",
      "\n",
      "temp(channels_first: bool = True)\n",
      "    Summary\n",
      "    \n",
      "    Args:\n",
      "        channels_first: Whether the inputs are in channels first format `(B, C, ...)` or not `(B, ..., C)`.. Defaults to True.\n",
      "\n"
     ]
    }
   ],
   "source": [
    "@populate_docstring\n",
    "def temp(channels_first: bool = True):\n",
    "    \"\"\"Summary\n",
    "\n",
    "    Args:\n",
    "        channels_first: {CHANNELS_FIRST_DOC}. Defaults to True.\n",
    "    \"\"\"\n",
    "\n",
    "\n",
    "help(temp)"
   ]
  },
  {
   "cell_type": "code",
   "execution_count": null,
   "metadata": {},
   "outputs": [
    {
     "name": "stdout",
     "output_type": "stream",
     "text": [
      "Help on function temp in module __main__:\n",
      "\n",
      "temp(channels_first: bool = True)\n",
      "    Summary\n",
      "    \n",
      "    Args:\n",
      "        channels_first: Whether the inputs are in channels first format `(B, C, ...)` or not `(B, ..., C)`.. Defaults to True.\n",
      "\n"
     ]
    }
   ],
   "source": [
    "@populate_docstring()\n",
    "def temp(channels_first: bool = True):\n",
    "    \"\"\"Summary\n",
    "\n",
    "    Args:\n",
    "        channels_first: {CHANNELS_FIRST_DOC}. Defaults to True.\n",
    "    \"\"\"\n",
    "\n",
    "\n",
    "help(temp)"
   ]
  },
  {
   "cell_type": "markdown",
   "metadata": {},
   "source": [
    "# nbdev"
   ]
  },
  {
   "cell_type": "code",
   "execution_count": null,
   "metadata": {},
   "outputs": [],
   "source": [
    "!nbdev_export"
   ]
  },
  {
   "cell_type": "code",
   "execution_count": null,
   "metadata": {},
   "outputs": [],
   "source": []
  }
 ],
 "metadata": {
  "kernelspec": {
   "display_name": "python3",
   "language": "python",
   "name": "python3"
  }
 },
 "nbformat": 4,
 "nbformat_minor": 2
}
