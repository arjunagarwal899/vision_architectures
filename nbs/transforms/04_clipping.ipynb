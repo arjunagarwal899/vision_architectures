{
 "cells": [
  {
   "cell_type": "code",
   "execution_count": null,
   "id": "c844a74d",
   "metadata": {},
   "outputs": [],
   "source": [
    "# | default_exp transforms/clipping"
   ]
  },
  {
   "cell_type": "code",
   "execution_count": null,
   "id": "9869ac14",
   "metadata": {},
   "outputs": [],
   "source": []
  },
  {
   "cell_type": "code",
   "execution_count": null,
   "id": "d47c98c2",
   "metadata": {},
   "outputs": [],
   "source": []
  },
  {
   "cell_type": "code",
   "execution_count": null,
   "id": "7753a4af",
   "metadata": {},
   "outputs": [],
   "source": []
  }
 ],
 "metadata": {
  "kernelspec": {
   "display_name": "python3",
   "language": "python",
   "name": "python3"
  }
 },
 "nbformat": 4,
 "nbformat_minor": 5
}
